{
 "cells": [
  {
   "cell_type": "code",
   "execution_count": 20,
   "metadata": {},
   "outputs": [],
   "source": [
    "from dotenv import load_dotenv\n",
    "load_dotenv('./.env')\n",
    "import json\n",
    "import openai\n",
    "import os\n",
    "from dspy import (\n",
    "    OpenAI,\n",
    "    OllamaLocal,\n",
    "    HFModel,\n",
    "    Predict,\n",
    "    Signature,\n",
    "    ChainOfThought,\n",
    "    Retrieve,\n",
    "    settings,\n",
    "    predict,\n",
    "    context\n",
    ")\n",
    "import warnings\n",
    "warnings.filterwarnings('ignore')"
   ]
  },
  {
   "cell_type": "code",
   "execution_count": 3,
   "metadata": {},
   "outputs": [],
   "source": [
    "openai.api_key= os.environ['OPENAI_API_KEY']"
   ]
  },
  {
   "cell_type": "code",
   "execution_count": 4,
   "metadata": {},
   "outputs": [],
   "source": [
    "from rich import print"
   ]
  },
  {
   "cell_type": "code",
   "execution_count": 5,
   "metadata": {},
   "outputs": [],
   "source": [
    "turbo = OpenAI(model='gpt-3.5-turbo')\n",
    "settings.configure(lm=turbo)"
   ]
  },
  {
   "cell_type": "code",
   "execution_count": 6,
   "metadata": {},
   "outputs": [],
   "source": [
    "signatures={\"QuestionAnswering\":\"question -> answer\",\n",
    "            \"SentimentClassification\":\"sentence -> sentiment\",\n",
    "            \"Summarization\":[\"document -> summary\",\n",
    "                             \"text -> gist\",\n",
    "                             \"long_context -> tldr\"],\n",
    "            \"RAG\":\"context, question -> answer\",\n",
    "            \"Multi-Choice\":\"question, choices -> reasoning, selection\"}"
   ]
  },
  {
   "cell_type": "code",
   "execution_count": 7,
   "metadata": {},
   "outputs": [
    {
     "data": {
      "text/plain": [
       "'question -> answer'"
      ]
     },
     "execution_count": 7,
     "metadata": {},
     "output_type": "execute_result"
    }
   ],
   "source": [
    "signatures['QuestionAnswering']"
   ]
  },
  {
   "cell_type": "code",
   "execution_count": 8,
   "metadata": {},
   "outputs": [],
   "source": [
    "# Predict class uses a signature of this form \n",
    "# only a single Predict class is required\n",
    "qa_pred = Predict('question -> answer')\n"
   ]
  },
  {
   "cell_type": "code",
   "execution_count": 9,
   "metadata": {},
   "outputs": [
    {
     "data": {
      "text/html": [
       "<pre style=\"white-space:pre;overflow-x:auto;line-height:normal;font-family:Menlo,'DejaVu Sans Mono',consolas,'Courier New',monospace\"><span style=\"color: #800080; text-decoration-color: #800080; font-weight: bold\">Predict</span><span style=\"font-weight: bold\">(</span><span style=\"color: #800080; text-decoration-color: #800080; font-weight: bold\">StringSignature</span><span style=\"font-weight: bold\">(</span>question -&gt; answer\n",
       "    <span style=\"color: #808000; text-decoration-color: #808000\">instructions</span>=<span style=\"color: #008000; text-decoration-color: #008000\">'Given the fields `question`, produce the fields `answer`.'</span>\n",
       "    question = <span style=\"color: #800080; text-decoration-color: #800080; font-weight: bold\">Field</span><span style=\"font-weight: bold\">(</span><span style=\"color: #808000; text-decoration-color: #808000\">annotation</span>=<span style=\"color: #800080; text-decoration-color: #800080\">str</span> <span style=\"color: #808000; text-decoration-color: #808000\">required</span>=<span style=\"color: #00ff00; text-decoration-color: #00ff00; font-style: italic\">True</span> <span style=\"color: #808000; text-decoration-color: #808000\">json_schema_extra</span>=<span style=\"font-weight: bold\">{</span><span style=\"color: #008000; text-decoration-color: #008000\">'__dspy_field_type'</span>: <span style=\"color: #008000; text-decoration-color: #008000\">'input'</span>, <span style=\"color: #008000; text-decoration-color: #008000\">'prefix'</span>: \n",
       "<span style=\"color: #008000; text-decoration-color: #008000\">'Question:'</span>, <span style=\"color: #008000; text-decoration-color: #008000\">'desc'</span>: <span style=\"color: #008000; text-decoration-color: #008000\">'${question}'</span><span style=\"font-weight: bold\">})</span>\n",
       "    answer = <span style=\"color: #800080; text-decoration-color: #800080; font-weight: bold\">Field</span><span style=\"font-weight: bold\">(</span><span style=\"color: #808000; text-decoration-color: #808000\">annotation</span>=<span style=\"color: #800080; text-decoration-color: #800080\">str</span> <span style=\"color: #808000; text-decoration-color: #808000\">required</span>=<span style=\"color: #00ff00; text-decoration-color: #00ff00; font-style: italic\">True</span> <span style=\"color: #808000; text-decoration-color: #808000\">json_schema_extra</span>=<span style=\"font-weight: bold\">{</span><span style=\"color: #008000; text-decoration-color: #008000\">'__dspy_field_type'</span>: <span style=\"color: #008000; text-decoration-color: #008000\">'output'</span>, <span style=\"color: #008000; text-decoration-color: #008000\">'prefix'</span>: \n",
       "<span style=\"color: #008000; text-decoration-color: #008000\">'Answer:'</span>, <span style=\"color: #008000; text-decoration-color: #008000\">'desc'</span>: <span style=\"color: #008000; text-decoration-color: #008000\">'${answer}'</span><span style=\"font-weight: bold\">})</span>\n",
       "<span style=\"font-weight: bold\">))</span>\n",
       "</pre>\n"
      ],
      "text/plain": [
       "\u001b[1;35mPredict\u001b[0m\u001b[1m(\u001b[0m\u001b[1;35mStringSignature\u001b[0m\u001b[1m(\u001b[0mquestion -> answer\n",
       "    \u001b[33minstructions\u001b[0m=\u001b[32m'Given the fields `question`, produce the fields `answer`.'\u001b[0m\n",
       "    question = \u001b[1;35mField\u001b[0m\u001b[1m(\u001b[0m\u001b[33mannotation\u001b[0m=\u001b[35mstr\u001b[0m \u001b[33mrequired\u001b[0m=\u001b[3;92mTrue\u001b[0m \u001b[33mjson_schema_extra\u001b[0m=\u001b[1m{\u001b[0m\u001b[32m'__dspy_field_type'\u001b[0m: \u001b[32m'input'\u001b[0m, \u001b[32m'prefix'\u001b[0m: \n",
       "\u001b[32m'Question:'\u001b[0m, \u001b[32m'desc'\u001b[0m: \u001b[32m'$\u001b[0m\u001b[32m{\u001b[0m\u001b[32mquestion\u001b[0m\u001b[32m}\u001b[0m\u001b[32m'\u001b[0m\u001b[1m}\u001b[0m\u001b[1m)\u001b[0m\n",
       "    answer = \u001b[1;35mField\u001b[0m\u001b[1m(\u001b[0m\u001b[33mannotation\u001b[0m=\u001b[35mstr\u001b[0m \u001b[33mrequired\u001b[0m=\u001b[3;92mTrue\u001b[0m \u001b[33mjson_schema_extra\u001b[0m=\u001b[1m{\u001b[0m\u001b[32m'__dspy_field_type'\u001b[0m: \u001b[32m'output'\u001b[0m, \u001b[32m'prefix'\u001b[0m: \n",
       "\u001b[32m'Answer:'\u001b[0m, \u001b[32m'desc'\u001b[0m: \u001b[32m'$\u001b[0m\u001b[32m{\u001b[0m\u001b[32manswer\u001b[0m\u001b[32m}\u001b[0m\u001b[32m'\u001b[0m\u001b[1m}\u001b[0m\u001b[1m)\u001b[0m\n",
       "\u001b[1m)\u001b[0m\u001b[1m)\u001b[0m\n"
      ]
     },
     "metadata": {},
     "output_type": "display_data"
    }
   ],
   "source": [
    "print(qa_pred)"
   ]
  },
  {
   "cell_type": "code",
   "execution_count": 10,
   "metadata": {},
   "outputs": [],
   "source": [
    "sum_cot = ChainOfThought('document -> summary')"
   ]
  },
  {
   "cell_type": "code",
   "execution_count": 11,
   "metadata": {},
   "outputs": [
    {
     "data": {
      "text/html": [
       "<pre style=\"white-space:pre;overflow-x:auto;line-height:normal;font-family:Menlo,'DejaVu Sans Mono',consolas,'Courier New',monospace\">self = <span style=\"color: #800080; text-decoration-color: #800080; font-weight: bold\">Predict</span><span style=\"font-weight: bold\">(</span><span style=\"color: #800080; text-decoration-color: #800080; font-weight: bold\">StringSignature</span><span style=\"font-weight: bold\">(</span>document -&gt; rationale, summary\n",
       "    <span style=\"color: #808000; text-decoration-color: #808000\">instructions</span>=<span style=\"color: #008000; text-decoration-color: #008000\">'Given the fields `document`, produce the fields `summary`.'</span>\n",
       "    document = <span style=\"color: #800080; text-decoration-color: #800080; font-weight: bold\">Field</span><span style=\"font-weight: bold\">(</span><span style=\"color: #808000; text-decoration-color: #808000\">annotation</span>=<span style=\"color: #800080; text-decoration-color: #800080\">str</span> <span style=\"color: #808000; text-decoration-color: #808000\">required</span>=<span style=\"color: #00ff00; text-decoration-color: #00ff00; font-style: italic\">True</span> <span style=\"color: #808000; text-decoration-color: #808000\">json_schema_extra</span>=<span style=\"font-weight: bold\">{</span><span style=\"color: #008000; text-decoration-color: #008000\">'__dspy_field_type'</span>: <span style=\"color: #008000; text-decoration-color: #008000\">'input'</span>, <span style=\"color: #008000; text-decoration-color: #008000\">'prefix'</span>: \n",
       "<span style=\"color: #008000; text-decoration-color: #008000\">'Document:'</span>, <span style=\"color: #008000; text-decoration-color: #008000\">'desc'</span>: <span style=\"color: #008000; text-decoration-color: #008000\">'${document}'</span><span style=\"font-weight: bold\">})</span>\n",
       "    rationale = <span style=\"color: #800080; text-decoration-color: #800080; font-weight: bold\">Field</span><span style=\"font-weight: bold\">(</span><span style=\"color: #808000; text-decoration-color: #808000\">annotation</span>=<span style=\"color: #800080; text-decoration-color: #800080\">str</span> <span style=\"color: #808000; text-decoration-color: #808000\">required</span>=<span style=\"color: #00ff00; text-decoration-color: #00ff00; font-style: italic\">True</span> <span style=\"color: #808000; text-decoration-color: #808000\">json_schema_extra</span>=<span style=\"font-weight: bold\">{</span><span style=\"color: #008000; text-decoration-color: #008000\">'prefix'</span>: <span style=\"color: #008000; text-decoration-color: #008000\">\"Reasoning: Let's think step by </span>\n",
       "<span style=\"color: #008000; text-decoration-color: #008000\">step in order to\"</span>, <span style=\"color: #008000; text-decoration-color: #008000\">'desc'</span>: <span style=\"color: #008000; text-decoration-color: #008000\">'${produce the summary}. We ...'</span>, <span style=\"color: #008000; text-decoration-color: #008000\">'__dspy_field_type'</span>: <span style=\"color: #008000; text-decoration-color: #008000\">'output'</span><span style=\"font-weight: bold\">})</span>\n",
       "    summary = <span style=\"color: #800080; text-decoration-color: #800080; font-weight: bold\">Field</span><span style=\"font-weight: bold\">(</span><span style=\"color: #808000; text-decoration-color: #808000\">annotation</span>=<span style=\"color: #800080; text-decoration-color: #800080\">str</span> <span style=\"color: #808000; text-decoration-color: #808000\">required</span>=<span style=\"color: #00ff00; text-decoration-color: #00ff00; font-style: italic\">True</span> <span style=\"color: #808000; text-decoration-color: #808000\">json_schema_extra</span>=<span style=\"font-weight: bold\">{</span><span style=\"color: #008000; text-decoration-color: #008000\">'__dspy_field_type'</span>: <span style=\"color: #008000; text-decoration-color: #008000\">'output'</span>, <span style=\"color: #008000; text-decoration-color: #008000\">'prefix'</span>: \n",
       "<span style=\"color: #008000; text-decoration-color: #008000\">'Summary:'</span>, <span style=\"color: #008000; text-decoration-color: #008000\">'desc'</span>: <span style=\"color: #008000; text-decoration-color: #008000\">'${summary}'</span><span style=\"font-weight: bold\">})</span>\n",
       "<span style=\"font-weight: bold\">))</span>\n",
       "</pre>\n"
      ],
      "text/plain": [
       "self = \u001b[1;35mPredict\u001b[0m\u001b[1m(\u001b[0m\u001b[1;35mStringSignature\u001b[0m\u001b[1m(\u001b[0mdocument -> rationale, summary\n",
       "    \u001b[33minstructions\u001b[0m=\u001b[32m'Given the fields `document`, produce the fields `summary`.'\u001b[0m\n",
       "    document = \u001b[1;35mField\u001b[0m\u001b[1m(\u001b[0m\u001b[33mannotation\u001b[0m=\u001b[35mstr\u001b[0m \u001b[33mrequired\u001b[0m=\u001b[3;92mTrue\u001b[0m \u001b[33mjson_schema_extra\u001b[0m=\u001b[1m{\u001b[0m\u001b[32m'__dspy_field_type'\u001b[0m: \u001b[32m'input'\u001b[0m, \u001b[32m'prefix'\u001b[0m: \n",
       "\u001b[32m'Document:'\u001b[0m, \u001b[32m'desc'\u001b[0m: \u001b[32m'$\u001b[0m\u001b[32m{\u001b[0m\u001b[32mdocument\u001b[0m\u001b[32m}\u001b[0m\u001b[32m'\u001b[0m\u001b[1m}\u001b[0m\u001b[1m)\u001b[0m\n",
       "    rationale = \u001b[1;35mField\u001b[0m\u001b[1m(\u001b[0m\u001b[33mannotation\u001b[0m=\u001b[35mstr\u001b[0m \u001b[33mrequired\u001b[0m=\u001b[3;92mTrue\u001b[0m \u001b[33mjson_schema_extra\u001b[0m=\u001b[1m{\u001b[0m\u001b[32m'prefix'\u001b[0m: \u001b[32m\"Reasoning: Let's think step by \u001b[0m\n",
       "\u001b[32mstep in order to\"\u001b[0m, \u001b[32m'desc'\u001b[0m: \u001b[32m'$\u001b[0m\u001b[32m{\u001b[0m\u001b[32mproduce the summary\u001b[0m\u001b[32m}\u001b[0m\u001b[32m. We ...'\u001b[0m, \u001b[32m'__dspy_field_type'\u001b[0m: \u001b[32m'output'\u001b[0m\u001b[1m}\u001b[0m\u001b[1m)\u001b[0m\n",
       "    summary = \u001b[1;35mField\u001b[0m\u001b[1m(\u001b[0m\u001b[33mannotation\u001b[0m=\u001b[35mstr\u001b[0m \u001b[33mrequired\u001b[0m=\u001b[3;92mTrue\u001b[0m \u001b[33mjson_schema_extra\u001b[0m=\u001b[1m{\u001b[0m\u001b[32m'__dspy_field_type'\u001b[0m: \u001b[32m'output'\u001b[0m, \u001b[32m'prefix'\u001b[0m: \n",
       "\u001b[32m'Summary:'\u001b[0m, \u001b[32m'desc'\u001b[0m: \u001b[32m'$\u001b[0m\u001b[32m{\u001b[0m\u001b[32msummary\u001b[0m\u001b[32m}\u001b[0m\u001b[32m'\u001b[0m\u001b[1m}\u001b[0m\u001b[1m)\u001b[0m\n",
       "\u001b[1m)\u001b[0m\u001b[1m)\u001b[0m\n"
      ]
     },
     "metadata": {},
     "output_type": "display_data"
    }
   ],
   "source": [
    "print(sum_cot)"
   ]
  },
  {
   "cell_type": "code",
   "execution_count": 12,
   "metadata": {},
   "outputs": [],
   "source": [
    "from dspy import(\n",
    "    InputField,\n",
    "    OutputField\n",
    ")\n",
    "\n",
    "class MultiClass(Signature):\n",
    "    \"\"\"Classift the given data into Address, Humans Name, Location, Building, Amount\"\"\"\n",
    "    sentence = InputField(desc=\"data to be specified\")\n",
    "    data_type = OutputField(desc=\"falls in one of categories\")\n",
    "\n"
   ]
  },
  {
   "cell_type": "code",
   "execution_count": 13,
   "metadata": {},
   "outputs": [
    {
     "data": {
      "text/html": [
       "<pre style=\"white-space:pre;overflow-x:auto;line-height:normal;font-family:Menlo,'DejaVu Sans Mono',consolas,'Courier New',monospace\"><span style=\"color: #800080; text-decoration-color: #800080; font-weight: bold\">Predict</span><span style=\"font-weight: bold\">(</span><span style=\"color: #800080; text-decoration-color: #800080; font-weight: bold\">MultiClass</span><span style=\"font-weight: bold\">(</span>sentence -&gt; data_type\n",
       "    <span style=\"color: #808000; text-decoration-color: #808000\">instructions</span>=<span style=\"color: #008000; text-decoration-color: #008000\">'Classift the given data into Address, Humans Name, Location, Building, Amount'</span>\n",
       "    sentence = <span style=\"color: #800080; text-decoration-color: #800080; font-weight: bold\">Field</span><span style=\"font-weight: bold\">(</span><span style=\"color: #808000; text-decoration-color: #808000\">annotation</span>=<span style=\"color: #800080; text-decoration-color: #800080\">str</span> <span style=\"color: #808000; text-decoration-color: #808000\">required</span>=<span style=\"color: #00ff00; text-decoration-color: #00ff00; font-style: italic\">True</span> <span style=\"color: #808000; text-decoration-color: #808000\">json_schema_extra</span>=<span style=\"font-weight: bold\">{</span><span style=\"color: #008000; text-decoration-color: #008000\">'desc'</span>: <span style=\"color: #008000; text-decoration-color: #008000\">'data to be specified'</span>, \n",
       "<span style=\"color: #008000; text-decoration-color: #008000\">'__dspy_field_type'</span>: <span style=\"color: #008000; text-decoration-color: #008000\">'input'</span>, <span style=\"color: #008000; text-decoration-color: #008000\">'prefix'</span>: <span style=\"color: #008000; text-decoration-color: #008000\">'Sentence:'</span><span style=\"font-weight: bold\">})</span>\n",
       "    data_type = <span style=\"color: #800080; text-decoration-color: #800080; font-weight: bold\">Field</span><span style=\"font-weight: bold\">(</span><span style=\"color: #808000; text-decoration-color: #808000\">annotation</span>=<span style=\"color: #800080; text-decoration-color: #800080\">str</span> <span style=\"color: #808000; text-decoration-color: #808000\">required</span>=<span style=\"color: #00ff00; text-decoration-color: #00ff00; font-style: italic\">True</span> <span style=\"color: #808000; text-decoration-color: #808000\">json_schema_extra</span>=<span style=\"font-weight: bold\">{</span><span style=\"color: #008000; text-decoration-color: #008000\">'desc'</span>: <span style=\"color: #008000; text-decoration-color: #008000\">'falls in one of categories'</span>, \n",
       "<span style=\"color: #008000; text-decoration-color: #008000\">'__dspy_field_type'</span>: <span style=\"color: #008000; text-decoration-color: #008000\">'output'</span>, <span style=\"color: #008000; text-decoration-color: #008000\">'prefix'</span>: <span style=\"color: #008000; text-decoration-color: #008000\">'Data Type:'</span><span style=\"font-weight: bold\">})</span>\n",
       "<span style=\"font-weight: bold\">))</span>\n",
       "</pre>\n"
      ],
      "text/plain": [
       "\u001b[1;35mPredict\u001b[0m\u001b[1m(\u001b[0m\u001b[1;35mMultiClass\u001b[0m\u001b[1m(\u001b[0msentence -> data_type\n",
       "    \u001b[33minstructions\u001b[0m=\u001b[32m'Classift the given data into Address, Humans Name, Location, Building, Amount'\u001b[0m\n",
       "    sentence = \u001b[1;35mField\u001b[0m\u001b[1m(\u001b[0m\u001b[33mannotation\u001b[0m=\u001b[35mstr\u001b[0m \u001b[33mrequired\u001b[0m=\u001b[3;92mTrue\u001b[0m \u001b[33mjson_schema_extra\u001b[0m=\u001b[1m{\u001b[0m\u001b[32m'desc'\u001b[0m: \u001b[32m'data to be specified'\u001b[0m, \n",
       "\u001b[32m'__dspy_field_type'\u001b[0m: \u001b[32m'input'\u001b[0m, \u001b[32m'prefix'\u001b[0m: \u001b[32m'Sentence:'\u001b[0m\u001b[1m}\u001b[0m\u001b[1m)\u001b[0m\n",
       "    data_type = \u001b[1;35mField\u001b[0m\u001b[1m(\u001b[0m\u001b[33mannotation\u001b[0m=\u001b[35mstr\u001b[0m \u001b[33mrequired\u001b[0m=\u001b[3;92mTrue\u001b[0m \u001b[33mjson_schema_extra\u001b[0m=\u001b[1m{\u001b[0m\u001b[32m'desc'\u001b[0m: \u001b[32m'falls in one of categories'\u001b[0m, \n",
       "\u001b[32m'__dspy_field_type'\u001b[0m: \u001b[32m'output'\u001b[0m, \u001b[32m'prefix'\u001b[0m: \u001b[32m'Data Type:'\u001b[0m\u001b[1m}\u001b[0m\u001b[1m)\u001b[0m\n",
       "\u001b[1m)\u001b[0m\u001b[1m)\u001b[0m\n"
      ]
     },
     "metadata": {},
     "output_type": "display_data"
    }
   ],
   "source": [
    "pred_class = Predict(MultiClass)\n",
    "print(pred_class)"
   ]
  },
  {
   "cell_type": "code",
   "execution_count": 14,
   "metadata": {},
   "outputs": [
    {
     "name": "stderr",
     "output_type": "stream",
     "text": [
      "WARNING:root:\t*** In DSPy 2.5, all LM clients except `dspy.LM` are deprecated. ***\n",
      " \t\tYou are using the client GPT3, which will be removed in DSPy 2.6.\n",
      " \t\tChanging the client is straightforward and will let you use new features (Adapters) that improve the consistency of LM outputs, especially when using chat LMs. \n",
      "\n",
      " \t\tLearn more about the changes and how to migrate at\n",
      " \t\thttps://github.com/stanfordnlp/dspy/blob/main/examples/migration.ipynb\n"
     ]
    },
    {
     "data": {
      "text/html": [
       "<pre style=\"white-space:pre;overflow-x:auto;line-height:normal;font-family:Menlo,'DejaVu Sans Mono',consolas,'Courier New',monospace\">Response by OPENAI:  <span style=\"font-weight: bold\">{</span>\n",
       "  <span style=\"color: #008000; text-decoration-color: #008000\">\"Address\"</span>: <span style=\"color: #008000; text-decoration-color: #008000\">\"123 Main Street\"</span>,\n",
       "  <span style=\"color: #008000; text-decoration-color: #008000\">\"Location\"</span>: <span style=\"color: #008000; text-decoration-color: #008000\">\"New York City\"</span>,\n",
       "  <span style=\"color: #008000; text-decoration-color: #008000\">\"Human Name\"</span>: <span style=\"color: #008000; text-decoration-color: #008000\">\"John Doe\"</span>,\n",
       "  <span style=\"color: #008000; text-decoration-color: #008000\">\"Building Name\"</span>: <span style=\"color: #008000; text-decoration-color: #008000\">\"Empire State Building\"</span>,\n",
       "  <span style=\"color: #008000; text-decoration-color: #008000\">\"Amount\"</span>: <span style=\"color: #008000; text-decoration-color: #008000\">\"$100\"</span>\n",
       "<span style=\"font-weight: bold\">}</span>\n",
       "</pre>\n"
      ],
      "text/plain": [
       "Response by OPENAI:  \u001b[1m{\u001b[0m\n",
       "  \u001b[32m\"Address\"\u001b[0m: \u001b[32m\"123 Main Street\"\u001b[0m,\n",
       "  \u001b[32m\"Location\"\u001b[0m: \u001b[32m\"New York City\"\u001b[0m,\n",
       "  \u001b[32m\"Human Name\"\u001b[0m: \u001b[32m\"John Doe\"\u001b[0m,\n",
       "  \u001b[32m\"Building Name\"\u001b[0m: \u001b[32m\"Empire State Building\"\u001b[0m,\n",
       "  \u001b[32m\"Amount\"\u001b[0m: \u001b[32m\"$100\"\u001b[0m\n",
       "\u001b[1m}\u001b[0m\n"
      ]
     },
     "metadata": {},
     "output_type": "display_data"
    }
   ],
   "source": [
    "get_json_data = Predict('required_data -> json_output')\n",
    "\n",
    "prompt=\"provide me one eg of Address, Location, Human Name, building name and amount\"\n",
    "\n",
    "with context(lm=turbo):\n",
    "    response = get_json_data(required_data=prompt)\n",
    "    print(\"Response by OPENAI: \", response.json_output)"
   ]
  },
  {
   "cell_type": "code",
   "execution_count": 15,
   "metadata": {},
   "outputs": [],
   "source": [
    "data= json.loads(response.json_output)"
   ]
  },
  {
   "cell_type": "markdown",
   "metadata": {},
   "source": [
    "# Program of Thought\n"
   ]
  },
  {
   "cell_type": "code",
   "execution_count": 16,
   "metadata": {},
   "outputs": [],
   "source": [
    "from dspy import ProgramOfThought"
   ]
  },
  {
   "cell_type": "code",
   "execution_count": 17,
   "metadata": {},
   "outputs": [
    {
     "data": {
      "text/html": [
       "<pre style=\"white-space:pre;overflow-x:auto;line-height:normal;font-family:Menlo,'DejaVu Sans Mono',consolas,'Courier New',monospace\">Question:Hritik has <span style=\"color: #008080; text-decoration-color: #008080; font-weight: bold\">5</span> apples. He buys <span style=\"color: #008080; text-decoration-color: #008080; font-weight: bold\">3</span> more apples. How many apples does he have now?\n",
       "</pre>\n"
      ],
      "text/plain": [
       "Question:Hritik has \u001b[1;36m5\u001b[0m apples. He buys \u001b[1;36m3\u001b[0m more apples. How many apples does he have now?\n"
      ]
     },
     "metadata": {},
     "output_type": "display_data"
    },
    {
     "data": {
      "text/html": [
       "<pre style=\"white-space:pre;overflow-x:auto;line-height:normal;font-family:Menlo,'DejaVu Sans Mono',consolas,'Courier New',monospace\">Answer:<span style=\"color: #800080; text-decoration-color: #800080; font-weight: bold\">Prediction</span><span style=\"font-weight: bold\">(</span>\n",
       "    <span style=\"color: #808000; text-decoration-color: #808000\">rationale</span>=<span style=\"color: #008000; text-decoration-color: #008000\">'produce the answer. We first define the initial number of apples Hritik has as 5 and the number of </span>\n",
       "<span style=\"color: #008000; text-decoration-color: #008000\">apples he buys as 3. By adding these two values together, we can calculate the total number of apples Hritik has </span>\n",
       "<span style=\"color: #008000; text-decoration-color: #008000\">now.'</span>,\n",
       "    <span style=\"color: #808000; text-decoration-color: #808000\">answer</span>=<span style=\"color: #008000; text-decoration-color: #008000\">'Hritik has 8 apples now.'</span>\n",
       "<span style=\"font-weight: bold\">)</span>\n",
       "</pre>\n"
      ],
      "text/plain": [
       "Answer:\u001b[1;35mPrediction\u001b[0m\u001b[1m(\u001b[0m\n",
       "    \u001b[33mrationale\u001b[0m=\u001b[32m'produce the answer. We first define the initial number of apples Hritik has as 5 and the number of \u001b[0m\n",
       "\u001b[32mapples he buys as 3. By adding these two values together, we can calculate the total number of apples Hritik has \u001b[0m\n",
       "\u001b[32mnow.'\u001b[0m,\n",
       "    \u001b[33manswer\u001b[0m=\u001b[32m'Hritik has 8 apples now.'\u001b[0m\n",
       "\u001b[1m)\u001b[0m\n"
      ]
     },
     "metadata": {},
     "output_type": "display_data"
    }
   ],
   "source": [
    "generate_answer_signature= Signature(\"question -> answer\")\n",
    "\n",
    "#pass the sig to ProgramOfThought Module\n",
    "pot = ProgramOfThought(generate_answer_signature)\n",
    "\n",
    "#call the program of thought Module on a prompt\n",
    "question='Hritik has 5 apples. He buys 3 more apples. How many apples does he have now?'\n",
    "result = pot(question=question)\n",
    "\n",
    "print(f\"Question:{question}\")\n",
    "print(f\"Answer:{result}\")\n"
   ]
  },
  {
   "cell_type": "code",
   "execution_count": 18,
   "metadata": {},
   "outputs": [
    {
     "name": "stdout",
     "output_type": "stream",
     "text": [
      "\n",
      "\n",
      "\n",
      "Given the fields `required_data`, produce the fields `json_output`.\n",
      "\n",
      "---\n",
      "\n",
      "Follow the following format.\n",
      "\n",
      "Required Data: ${required_data}\n",
      "Json Output: ${json_output}\n",
      "\n",
      "---\n",
      "\n",
      "Required Data: provide me one eg of Address, Location, Human Name, building name and amount\n",
      "Json Output:\u001b[32m {\n",
      "  \"Address\": \"123 Main Street\",\n",
      "  \"Location\": \"New York City\",\n",
      "  \"Human Name\": \"John Doe\",\n",
      "  \"Building Name\": \"Empire State Building\",\n",
      "  \"Amount\": \"$100\"\n",
      "}\u001b[0m\n",
      "\n",
      "\n",
      "\n",
      "\n",
      "\n",
      "You will be given `question` and you will respond with `answer`.\n",
      "Generating executable Python code that programmatically computes the correct `answer`.\n",
      "After you're done with the computation, make sure the last line in your code evaluates to the correct value for `answer`.\n",
      "\n",
      "---\n",
      "\n",
      "Follow the following format.\n",
      "\n",
      "Question: ${question}\n",
      "Reasoning: Let's think step by step in order to ${produce the generated_code}. We ...\n",
      "Code: python code that answers the question\n",
      "\n",
      "---\n",
      "\n",
      "Question: Hritik has 5 apples. He buys 3 more apples. How many apples does he have now?\n",
      "Reasoning: Let's think step by step in order to\u001b[32m produce the generated_code. We start with the initial number of apples Hritik has, which is 5. Then, we add the number of apples he buys, which is 3.\n",
      "Code:\n",
      "```python\n",
      "initial_apples = 5\n",
      "apples_bought = 3\n",
      "total_apples = initial_apples + apples_bought\n",
      "total_apples\n",
      "```\u001b[0m\n",
      "\n",
      "\n",
      "\n",
      "\n",
      "\n",
      "Given the final code `question`, `final_generated_code`, `code_output`, provide the final `answer`.\n",
      "\n",
      "---\n",
      "\n",
      "Follow the following format.\n",
      "\n",
      "Question: ${question}\n",
      "\n",
      "Code: python code that answers the question\n",
      "\n",
      "Code Output: output of previously-generated python code\n",
      "\n",
      "Reasoning: Let's think step by step in order to ${produce the answer}. We ...\n",
      "\n",
      "Answer: ${answer}\n",
      "\n",
      "---\n",
      "\n",
      "Question: Hritik has 5 apples. He buys 3 more apples. How many apples does he have now?\n",
      "\n",
      "Code:\n",
      "initial_apples = 5\n",
      "apples_bought = 3\n",
      "total_apples = initial_apples + apples_bought\n",
      "total_apples\n",
      "\n",
      "Code Output: 8\n",
      "\n",
      "Reasoning: Let's think step by step in order to\u001b[32m produce the answer. We first define the initial number of apples Hritik has as 5 and the number of apples he buys as 3. By adding these two values together, we can calculate the total number of apples Hritik has now.\n",
      "\n",
      "Answer: Hritik has 8 apples now.\u001b[0m\n",
      "\n",
      "\n",
      "\n"
     ]
    },
    {
     "data": {
      "text/plain": [
       "'\\n\\n\\nGiven the fields `required_data`, produce the fields `json_output`.\\n\\n---\\n\\nFollow the following format.\\n\\nRequired Data: ${required_data}\\nJson Output: ${json_output}\\n\\n---\\n\\nRequired Data: provide me one eg of Address, Location, Human Name, building name and amount\\nJson Output:\\x1b[32m {\\n  \"Address\": \"123 Main Street\",\\n  \"Location\": \"New York City\",\\n  \"Human Name\": \"John Doe\",\\n  \"Building Name\": \"Empire State Building\",\\n  \"Amount\": \"$100\"\\n}\\x1b[0m\\n\\n\\n\\n\\n\\nYou will be given `question` and you will respond with `answer`.\\nGenerating executable Python code that programmatically computes the correct `answer`.\\nAfter you\\'re done with the computation, make sure the last line in your code evaluates to the correct value for `answer`.\\n\\n---\\n\\nFollow the following format.\\n\\nQuestion: ${question}\\nReasoning: Let\\'s think step by step in order to ${produce the generated_code}. We ...\\nCode: python code that answers the question\\n\\n---\\n\\nQuestion: Hritik has 5 apples. He buys 3 more apples. How many apples does he have now?\\nReasoning: Let\\'s think step by step in order to\\x1b[32m produce the generated_code. We start with the initial number of apples Hritik has, which is 5. Then, we add the number of apples he buys, which is 3.\\nCode:\\n```python\\ninitial_apples = 5\\napples_bought = 3\\ntotal_apples = initial_apples + apples_bought\\ntotal_apples\\n```\\x1b[0m\\n\\n\\n\\n\\n\\nGiven the final code `question`, `final_generated_code`, `code_output`, provide the final `answer`.\\n\\n---\\n\\nFollow the following format.\\n\\nQuestion: ${question}\\n\\nCode: python code that answers the question\\n\\nCode Output: output of previously-generated python code\\n\\nReasoning: Let\\'s think step by step in order to ${produce the answer}. We ...\\n\\nAnswer: ${answer}\\n\\n---\\n\\nQuestion: Hritik has 5 apples. He buys 3 more apples. How many apples does he have now?\\n\\nCode:\\ninitial_apples = 5\\napples_bought = 3\\ntotal_apples = initial_apples + apples_bought\\ntotal_apples\\n\\nCode Output: 8\\n\\nReasoning: Let\\'s think step by step in order to\\x1b[32m produce the answer. We first define the initial number of apples Hritik has as 5 and the number of apples he buys as 3. By adding these two values together, we can calculate the total number of apples Hritik has now.\\n\\nAnswer: Hritik has 8 apples now.\\x1b[0m\\n\\n\\n'"
      ]
     },
     "execution_count": 18,
     "metadata": {},
     "output_type": "execute_result"
    }
   ],
   "source": [
    "turbo.inspect_history(n=6)"
   ]
  },
  {
   "cell_type": "markdown",
   "metadata": {},
   "source": [
    "# Retrieve"
   ]
  },
  {
   "cell_type": "code",
   "execution_count": 19,
   "metadata": {},
   "outputs": [],
   "source": [
    "# updating the LLM \n",
    "\n",
    "from dspy import ColBERTv2\n",
    "\n",
    "colbert_wiki_rm=ColBERTv2(url='http://20.102.90.50:2017/wiki17_abstracts')\n",
    "settings.configure(lm=turbo, rm=colbert_wiki_rm)"
   ]
  },
  {
   "cell_type": "code",
   "execution_count": 23,
   "metadata": {},
   "outputs": [
    {
     "data": {
      "text/html": [
       "<pre style=\"white-space:pre;overflow-x:auto;line-height:normal;font-family:Menlo,'DejaVu Sans Mono',consolas,'Courier New',monospace\">Passage <span style=\"color: #008080; text-decoration-color: #008080; font-weight: bold\">1</span>: History of the FIFA World Cup | The FIFA World Cup was first held in <span style=\"color: #008080; text-decoration-color: #008080; font-weight: bold\">1930</span>, when FIFA president Jules \n",
       "Rimet decided to stage an international football tournament. The inaugural edition, held in <span style=\"color: #008080; text-decoration-color: #008080; font-weight: bold\">1930</span>, was contested as \n",
       "a final tournament of only thirteen teams invited by the organization. Since then, the World Cup has experienced \n",
       "successive expansions and format remodeling to its current <span style=\"color: #008080; text-decoration-color: #008080; font-weight: bold\">32</span>-team final tournament preceded by a two-year \n",
       "qualifying process, involving over <span style=\"color: #008080; text-decoration-color: #008080; font-weight: bold\">200</span> teams from around the world. \n",
       "\n",
       "</pre>\n"
      ],
      "text/plain": [
       "Passage \u001b[1;36m1\u001b[0m: History of the FIFA World Cup | The FIFA World Cup was first held in \u001b[1;36m1930\u001b[0m, when FIFA president Jules \n",
       "Rimet decided to stage an international football tournament. The inaugural edition, held in \u001b[1;36m1930\u001b[0m, was contested as \n",
       "a final tournament of only thirteen teams invited by the organization. Since then, the World Cup has experienced \n",
       "successive expansions and format remodeling to its current \u001b[1;36m32\u001b[0m-team final tournament preceded by a two-year \n",
       "qualifying process, involving over \u001b[1;36m200\u001b[0m teams from around the world. \n",
       "\n"
      ]
     },
     "metadata": {},
     "output_type": "display_data"
    },
    {
     "data": {
      "text/html": [
       "<pre style=\"white-space:pre;overflow-x:auto;line-height:normal;font-family:Menlo,'DejaVu Sans Mono',consolas,'Courier New',monospace\">Passage <span style=\"color: #008080; text-decoration-color: #008080; font-weight: bold\">2</span>: <span style=\"color: #008080; text-decoration-color: #008080; font-weight: bold\">1950</span> FIFA World Cup | The <span style=\"color: #008080; text-decoration-color: #008080; font-weight: bold\">1950</span> FIFA World Cup, held in Brazil from <span style=\"color: #008080; text-decoration-color: #008080; font-weight: bold\">24</span> June to <span style=\"color: #008080; text-decoration-color: #008080; font-weight: bold\">16</span> July <span style=\"color: #008080; text-decoration-color: #008080; font-weight: bold\">1950</span>, was the \n",
       "fourth FIFA World Cup. It was the first World Cup since <span style=\"color: #008080; text-decoration-color: #008080; font-weight: bold\">1938</span>, the planned <span style=\"color: #008080; text-decoration-color: #008080; font-weight: bold\">1942</span> and <span style=\"color: #008080; text-decoration-color: #008080; font-weight: bold\">1946</span> competitions having been \n",
       "cancelled owing to World War II. It was won by Uruguay, who had won the inaugural competition in <span style=\"color: #008080; text-decoration-color: #008080; font-weight: bold\">1930</span>, clinching \n",
       "the cup by beating the hosts Brazil <span style=\"color: #008080; text-decoration-color: #008080; font-weight: bold\">2</span>–<span style=\"color: #008080; text-decoration-color: #008080; font-weight: bold\">1</span> in the deciding match of the four-team final group <span style=\"font-weight: bold\">(</span>this was the only \n",
       "tournament not decided by a one-match final<span style=\"font-weight: bold\">)</span>. It was also the first tournament where the trophy was referred to as \n",
       "the Jules Rimet Cup, to mark the 25th anniversary of Jules Rimet's presidency of FIFA. \n",
       "\n",
       "</pre>\n"
      ],
      "text/plain": [
       "Passage \u001b[1;36m2\u001b[0m: \u001b[1;36m1950\u001b[0m FIFA World Cup | The \u001b[1;36m1950\u001b[0m FIFA World Cup, held in Brazil from \u001b[1;36m24\u001b[0m June to \u001b[1;36m16\u001b[0m July \u001b[1;36m1950\u001b[0m, was the \n",
       "fourth FIFA World Cup. It was the first World Cup since \u001b[1;36m1938\u001b[0m, the planned \u001b[1;36m1942\u001b[0m and \u001b[1;36m1946\u001b[0m competitions having been \n",
       "cancelled owing to World War II. It was won by Uruguay, who had won the inaugural competition in \u001b[1;36m1930\u001b[0m, clinching \n",
       "the cup by beating the hosts Brazil \u001b[1;36m2\u001b[0m–\u001b[1;36m1\u001b[0m in the deciding match of the four-team final group \u001b[1m(\u001b[0mthis was the only \n",
       "tournament not decided by a one-match final\u001b[1m)\u001b[0m. It was also the first tournament where the trophy was referred to as \n",
       "the Jules Rimet Cup, to mark the 25th anniversary of Jules Rimet's presidency of FIFA. \n",
       "\n"
      ]
     },
     "metadata": {},
     "output_type": "display_data"
    }
   ],
   "source": [
    "query ='When was the first fifa world cup held'\n",
    "\n",
    "retrieve = Retrieve(k=2)\n",
    "\n",
    "topk = retrieve(query).passages\n",
    "\n",
    "for i, passage in enumerate(topk):\n",
    "    print(f\"Passage {i+1}: {passage} \\n\")\n",
    "\n"
   ]
  },
  {
   "cell_type": "code",
   "execution_count": 25,
   "metadata": {},
   "outputs": [
    {
     "data": {
      "text/html": [
       "<pre style=\"white-space:pre;overflow-x:auto;line-height:normal;font-family:Menlo,'DejaVu Sans Mono',consolas,'Courier New',monospace\"><span style=\"color: #800080; text-decoration-color: #800080; font-weight: bold\">Prediction</span><span style=\"font-weight: bold\">(</span>\n",
       "    <span style=\"color: #808000; text-decoration-color: #808000\">passages</span>=<span style=\"font-weight: bold\">[</span><span style=\"color: #008000; text-decoration-color: #008000\">'History of the FIFA World Cup | The FIFA World Cup was first held in 1930, when FIFA president Jules</span>\n",
       "<span style=\"color: #008000; text-decoration-color: #008000\">Rimet decided to stage an international football tournament. The inaugural edition, held in 1930, was contested as </span>\n",
       "<span style=\"color: #008000; text-decoration-color: #008000\">a final tournament of only thirteen teams invited by the organization. Since then, the World Cup has experienced </span>\n",
       "<span style=\"color: #008000; text-decoration-color: #008000\">successive expansions and format remodeling to its current 32-team final tournament preceded by a two-year </span>\n",
       "<span style=\"color: #008000; text-decoration-color: #008000\">qualifying process, involving over 200 teams from around the world.'</span>, <span style=\"color: #008000; text-decoration-color: #008000\">\"1950 FIFA World Cup | The 1950 FIFA World </span>\n",
       "<span style=\"color: #008000; text-decoration-color: #008000\">Cup, held in Brazil from 24 June to 16 July 1950, was the fourth FIFA World Cup. It was the first World Cup since </span>\n",
       "<span style=\"color: #008000; text-decoration-color: #008000\">1938, the planned 1942 and 1946 competitions having been cancelled owing to World War II. It was won by Uruguay, </span>\n",
       "<span style=\"color: #008000; text-decoration-color: #008000\">who had won the inaugural competition in 1930, clinching the cup by beating the hosts Brazil 2–1 in the deciding </span>\n",
       "<span style=\"color: #008000; text-decoration-color: #008000\">match of the four-team final group (this was the only tournament not decided by a one-match final). It was also the</span>\n",
       "<span style=\"color: #008000; text-decoration-color: #008000\">first tournament where the trophy was referred to as the Jules Rimet Cup, to mark the 25th anniversary of Jules </span>\n",
       "<span style=\"color: #008000; text-decoration-color: #008000\">Rimet's presidency of FIFA.\"</span><span style=\"font-weight: bold\">]</span>\n",
       "<span style=\"font-weight: bold\">)</span>\n",
       "</pre>\n"
      ],
      "text/plain": [
       "\u001b[1;35mPrediction\u001b[0m\u001b[1m(\u001b[0m\n",
       "    \u001b[33mpassages\u001b[0m=\u001b[1m[\u001b[0m\u001b[32m'History of the FIFA World Cup | The FIFA World Cup was first held in 1930, when FIFA president Jules\u001b[0m\n",
       "\u001b[32mRimet decided to stage an international football tournament. The inaugural edition, held in 1930, was contested as \u001b[0m\n",
       "\u001b[32ma final tournament of only thirteen teams invited by the organization. Since then, the World Cup has experienced \u001b[0m\n",
       "\u001b[32msuccessive expansions and format remodeling to its current 32-team final tournament preceded by a two-year \u001b[0m\n",
       "\u001b[32mqualifying process, involving over 200 teams from around the world.'\u001b[0m, \u001b[32m\"1950 FIFA World Cup | The 1950 FIFA World \u001b[0m\n",
       "\u001b[32mCup, held in Brazil from 24 June to 16 July 1950, was the fourth FIFA World Cup. It was the first World Cup since \u001b[0m\n",
       "\u001b[32m1938, the planned 1942 and 1946 competitions having been cancelled owing to World War II. It was won by Uruguay, \u001b[0m\n",
       "\u001b[32mwho had won the inaugural competition in 1930, clinching the cup by beating the hosts Brazil 2–1 in the deciding \u001b[0m\n",
       "\u001b[32mmatch of the four-team final group \u001b[0m\u001b[32m(\u001b[0m\u001b[32mthis was the only tournament not decided by a one-match final\u001b[0m\u001b[32m)\u001b[0m\u001b[32m. It was also the\u001b[0m\n",
       "\u001b[32mfirst tournament where the trophy was referred to as the Jules Rimet Cup, to mark the 25th anniversary of Jules \u001b[0m\n",
       "\u001b[32mRimet's presidency of FIFA.\"\u001b[0m\u001b[1m]\u001b[0m\n",
       "\u001b[1m)\u001b[0m\n"
      ]
     },
     "metadata": {},
     "output_type": "display_data"
    }
   ],
   "source": [
    "raw_retrieval = retrieve(query)\n",
    "print(raw_retrieval)"
   ]
  },
  {
   "cell_type": "code",
   "execution_count": 26,
   "metadata": {},
   "outputs": [],
   "source": [
    "retrieval_qa = Predict(\"question, context -> answer\")\n",
    "\n",
    "output = retrieval_qa(question=query, context=raw_retrieval.passages)"
   ]
  },
  {
   "cell_type": "code",
   "execution_count": 27,
   "metadata": {},
   "outputs": [
    {
     "data": {
      "text/html": [
       "<pre style=\"white-space:pre;overflow-x:auto;line-height:normal;font-family:Menlo,'DejaVu Sans Mono',consolas,'Courier New',monospace\"><span style=\"color: #800080; text-decoration-color: #800080; font-weight: bold\">Prediction</span><span style=\"font-weight: bold\">(</span>\n",
       "    <span style=\"color: #808000; text-decoration-color: #808000\">answer</span>=<span style=\"color: #008000; text-decoration-color: #008000\">'Question: When was the first FIFA World Cup held?\\nContext: The FIFA World Cup was first held in 1930, </span>\n",
       "<span style=\"color: #008000; text-decoration-color: #008000\">when FIFA president Jules Rimet decided to stage an international football tournament.\\nAnswer: 1930'</span>\n",
       "<span style=\"font-weight: bold\">)</span>\n",
       "</pre>\n"
      ],
      "text/plain": [
       "\u001b[1;35mPrediction\u001b[0m\u001b[1m(\u001b[0m\n",
       "    \u001b[33manswer\u001b[0m=\u001b[32m'Question: When was the first FIFA World Cup held?\\nContext: The FIFA World Cup was first held in 1930, \u001b[0m\n",
       "\u001b[32mwhen FIFA president Jules Rimet decided to stage an international football tournament.\\nAnswer: 1930'\u001b[0m\n",
       "\u001b[1m)\u001b[0m\n"
      ]
     },
     "metadata": {},
     "output_type": "display_data"
    }
   ],
   "source": [
    "print(output)"
   ]
  },
  {
   "cell_type": "code",
   "execution_count": 29,
   "metadata": {},
   "outputs": [
    {
     "name": "stdout",
     "output_type": "stream",
     "text": [
      "\n",
      "\n",
      "\n",
      "Given the fields `required_data`, produce the fields `json_output`.\n",
      "\n",
      "---\n",
      "\n",
      "Follow the following format.\n",
      "\n",
      "Required Data: ${required_data}\n",
      "Json Output: ${json_output}\n",
      "\n",
      "---\n",
      "\n",
      "Required Data: provide me one eg of Address, Location, Human Name, building name and amount\n",
      "Json Output:\u001b[32m {\n",
      "  \"Address\": \"123 Main Street\",\n",
      "  \"Location\": \"New York City\",\n",
      "  \"Human Name\": \"John Doe\",\n",
      "  \"Building Name\": \"Empire State Building\",\n",
      "  \"Amount\": \"$100\"\n",
      "}\u001b[0m\n",
      "\n",
      "\n",
      "\n",
      "\n",
      "\n",
      "You will be given `question` and you will respond with `answer`.\n",
      "Generating executable Python code that programmatically computes the correct `answer`.\n",
      "After you're done with the computation, make sure the last line in your code evaluates to the correct value for `answer`.\n",
      "\n",
      "---\n",
      "\n",
      "Follow the following format.\n",
      "\n",
      "Question: ${question}\n",
      "Reasoning: Let's think step by step in order to ${produce the generated_code}. We ...\n",
      "Code: python code that answers the question\n",
      "\n",
      "---\n",
      "\n",
      "Question: Hritik has 5 apples. He buys 3 more apples. How many apples does he have now?\n",
      "Reasoning: Let's think step by step in order to\u001b[32m produce the generated_code. We start with the initial number of apples Hritik has, which is 5. Then, we add the number of apples he buys, which is 3.\n",
      "Code:\n",
      "```python\n",
      "initial_apples = 5\n",
      "apples_bought = 3\n",
      "total_apples = initial_apples + apples_bought\n",
      "total_apples\n",
      "```\u001b[0m\n",
      "\n",
      "\n",
      "\n",
      "\n",
      "\n",
      "Given the final code `question`, `final_generated_code`, `code_output`, provide the final `answer`.\n",
      "\n",
      "---\n",
      "\n",
      "Follow the following format.\n",
      "\n",
      "Question: ${question}\n",
      "\n",
      "Code: python code that answers the question\n",
      "\n",
      "Code Output: output of previously-generated python code\n",
      "\n",
      "Reasoning: Let's think step by step in order to ${produce the answer}. We ...\n",
      "\n",
      "Answer: ${answer}\n",
      "\n",
      "---\n",
      "\n",
      "Question: Hritik has 5 apples. He buys 3 more apples. How many apples does he have now?\n",
      "\n",
      "Code:\n",
      "initial_apples = 5\n",
      "apples_bought = 3\n",
      "total_apples = initial_apples + apples_bought\n",
      "total_apples\n",
      "\n",
      "Code Output: 8\n",
      "\n",
      "Reasoning: Let's think step by step in order to\u001b[32m produce the answer. We first define the initial number of apples Hritik has as 5 and the number of apples he buys as 3. By adding these two values together, we can calculate the total number of apples Hritik has now.\n",
      "\n",
      "Answer: Hritik has 8 apples now.\u001b[0m\n",
      "\n",
      "\n",
      "\n",
      "\n",
      "\n",
      "Given the fields `question`, `context`, produce the fields `answer`.\n",
      "\n",
      "---\n",
      "\n",
      "Follow the following format.\n",
      "\n",
      "Question: ${question}\n",
      "Context: ${context}\n",
      "Answer: ${answer}\n",
      "\n",
      "---\n",
      "\n",
      "Question: When was the first fifa world cup held\n",
      "Context:\n",
      "[1] «History of the FIFA World Cup | The FIFA World Cup was first held in 1930, when FIFA president Jules Rimet decided to stage an international football tournament. The inaugural edition, held in 1930, was contested as a final tournament of only thirteen teams invited by the organization. Since then, the World Cup has experienced successive expansions and format remodeling to its current 32-team final tournament preceded by a two-year qualifying process, involving over 200 teams from around the world.»\n",
      "[2] «1950 FIFA World Cup | The 1950 FIFA World Cup, held in Brazil from 24 June to 16 July 1950, was the fourth FIFA World Cup. It was the first World Cup since 1938, the planned 1942 and 1946 competitions having been cancelled owing to World War II. It was won by Uruguay, who had won the inaugural competition in 1930, clinching the cup by beating the hosts Brazil 2–1 in the deciding match of the four-team final group (this was the only tournament not decided by a one-match final). It was also the first tournament where the trophy was referred to as the Jules Rimet Cup, to mark the 25th anniversary of Jules Rimet's presidency of FIFA.»\n",
      "Answer:\u001b[32m Question: When was the first FIFA World Cup held?\n",
      "Context: The FIFA World Cup was first held in 1930, when FIFA president Jules Rimet decided to stage an international football tournament.\n",
      "Answer: 1930\u001b[0m\n",
      "\n",
      "\n",
      "\n"
     ]
    },
    {
     "data": {
      "text/plain": [
       "'\\n\\n\\nGiven the fields `required_data`, produce the fields `json_output`.\\n\\n---\\n\\nFollow the following format.\\n\\nRequired Data: ${required_data}\\nJson Output: ${json_output}\\n\\n---\\n\\nRequired Data: provide me one eg of Address, Location, Human Name, building name and amount\\nJson Output:\\x1b[32m {\\n  \"Address\": \"123 Main Street\",\\n  \"Location\": \"New York City\",\\n  \"Human Name\": \"John Doe\",\\n  \"Building Name\": \"Empire State Building\",\\n  \"Amount\": \"$100\"\\n}\\x1b[0m\\n\\n\\n\\n\\n\\nYou will be given `question` and you will respond with `answer`.\\nGenerating executable Python code that programmatically computes the correct `answer`.\\nAfter you\\'re done with the computation, make sure the last line in your code evaluates to the correct value for `answer`.\\n\\n---\\n\\nFollow the following format.\\n\\nQuestion: ${question}\\nReasoning: Let\\'s think step by step in order to ${produce the generated_code}. We ...\\nCode: python code that answers the question\\n\\n---\\n\\nQuestion: Hritik has 5 apples. He buys 3 more apples. How many apples does he have now?\\nReasoning: Let\\'s think step by step in order to\\x1b[32m produce the generated_code. We start with the initial number of apples Hritik has, which is 5. Then, we add the number of apples he buys, which is 3.\\nCode:\\n```python\\ninitial_apples = 5\\napples_bought = 3\\ntotal_apples = initial_apples + apples_bought\\ntotal_apples\\n```\\x1b[0m\\n\\n\\n\\n\\n\\nGiven the final code `question`, `final_generated_code`, `code_output`, provide the final `answer`.\\n\\n---\\n\\nFollow the following format.\\n\\nQuestion: ${question}\\n\\nCode: python code that answers the question\\n\\nCode Output: output of previously-generated python code\\n\\nReasoning: Let\\'s think step by step in order to ${produce the answer}. We ...\\n\\nAnswer: ${answer}\\n\\n---\\n\\nQuestion: Hritik has 5 apples. He buys 3 more apples. How many apples does he have now?\\n\\nCode:\\ninitial_apples = 5\\napples_bought = 3\\ntotal_apples = initial_apples + apples_bought\\ntotal_apples\\n\\nCode Output: 8\\n\\nReasoning: Let\\'s think step by step in order to\\x1b[32m produce the answer. We first define the initial number of apples Hritik has as 5 and the number of apples he buys as 3. By adding these two values together, we can calculate the total number of apples Hritik has now.\\n\\nAnswer: Hritik has 8 apples now.\\x1b[0m\\n\\n\\n\\n\\n\\nGiven the fields `question`, `context`, produce the fields `answer`.\\n\\n---\\n\\nFollow the following format.\\n\\nQuestion: ${question}\\nContext: ${context}\\nAnswer: ${answer}\\n\\n---\\n\\nQuestion: When was the first fifa world cup held\\nContext:\\n[1] «History of the FIFA World Cup | The FIFA World Cup was first held in 1930, when FIFA president Jules Rimet decided to stage an international football tournament. The inaugural edition, held in 1930, was contested as a final tournament of only thirteen teams invited by the organization. Since then, the World Cup has experienced successive expansions and format remodeling to its current 32-team final tournament preceded by a two-year qualifying process, involving over 200 teams from around the world.»\\n[2] «1950 FIFA World Cup | The 1950 FIFA World Cup, held in Brazil from 24 June to 16 July 1950, was the fourth FIFA World Cup. It was the first World Cup since 1938, the planned 1942 and 1946 competitions having been cancelled owing to World War II. It was won by Uruguay, who had won the inaugural competition in 1930, clinching the cup by beating the hosts Brazil 2–1 in the deciding match of the four-team final group (this was the only tournament not decided by a one-match final). It was also the first tournament where the trophy was referred to as the Jules Rimet Cup, to mark the 25th anniversary of Jules Rimet\\'s presidency of FIFA.»\\nAnswer:\\x1b[32m Question: When was the first FIFA World Cup held?\\nContext: The FIFA World Cup was first held in 1930, when FIFA president Jules Rimet decided to stage an international football tournament.\\nAnswer: 1930\\x1b[0m\\n\\n\\n'"
      ]
     },
     "execution_count": 29,
     "metadata": {},
     "output_type": "execute_result"
    }
   ],
   "source": [
    "turbo.inspect_history(n=10)"
   ]
  },
  {
   "cell_type": "code",
   "execution_count": null,
   "metadata": {},
   "outputs": [],
   "source": []
  }
 ],
 "metadata": {
  "kernelspec": {
   "display_name": "myenv",
   "language": "python",
   "name": "python3"
  },
  "language_info": {
   "codemirror_mode": {
    "name": "ipython",
    "version": 3
   },
   "file_extension": ".py",
   "mimetype": "text/x-python",
   "name": "python",
   "nbconvert_exporter": "python",
   "pygments_lexer": "ipython3",
   "version": "3.12.6"
  }
 },
 "nbformat": 4,
 "nbformat_minor": 2
}
