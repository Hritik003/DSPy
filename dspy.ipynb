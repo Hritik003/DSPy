{
 "cells": [
  {
   "cell_type": "code",
   "execution_count": 68,
   "metadata": {},
   "outputs": [],
   "source": [
    "from dotenv import load_dotenv\n",
    "from rich import print\n",
    "load_dotenv('./.env')\n",
    "import json\n",
    "import openai\n",
    "import os\n",
    "from dspy import (\n",
    "    OpenAI,\n",
    "    OllamaLocal,\n",
    "    HFModel,\n",
    "    Predict,\n",
    "    Signature,\n",
    "    ChainOfThought,\n",
    "    Retrieve,\n",
    "    settings,\n",
    "    predict,\n",
    "    context\n",
    ")\n",
    "import warnings\n",
    "warnings.filterwarnings('ignore')"
   ]
  },
  {
   "cell_type": "code",
   "execution_count": 69,
   "metadata": {},
   "outputs": [],
   "source": [
    "openai.api_key= os.environ['OPENAI_API_KEY']"
   ]
  },
  {
   "cell_type": "code",
   "execution_count": 70,
   "metadata": {},
   "outputs": [],
   "source": [
    "turbo = OpenAI(model='gpt-3.5-turbo')\n",
    "settings.configure(lm=turbo)"
   ]
  },
  {
   "cell_type": "code",
   "execution_count": 75,
   "metadata": {},
   "outputs": [
    {
     "data": {
      "text/plain": [
       "['A cat is a small domesticated carnivorous mammal with soft fur, a short snout, and retractable claws. Cats are known for their agility, independence, and playful nature. They are popular pets and are often kept for companionship and as rodent control.']"
      ]
     },
     "execution_count": 75,
     "metadata": {},
     "output_type": "execute_result"
    }
   ],
   "source": [
    "turbo(\"what is a cat?\")"
   ]
  },
  {
   "cell_type": "code",
   "execution_count": 71,
   "metadata": {},
   "outputs": [],
   "source": [
    "signatures={\"QuestionAnswering\":\"question -> answer\",\n",
    "            \"SentimentClassification\":\"sentence -> sentiment\",\n",
    "            \"Summarization\":[\"document -> summary\",\n",
    "                             \"text -> gist\",\n",
    "                             \"long_context -> tldr\"],\n",
    "            \"RAG\":\"context, question -> answer\",\n",
    "            \"Multi-Choice\":\"question, choices -> reasoning, selection\"}"
   ]
  },
  {
   "cell_type": "code",
   "execution_count": 72,
   "metadata": {},
   "outputs": [
    {
     "data": {
      "text/plain": [
       "'question -> answer'"
      ]
     },
     "execution_count": 72,
     "metadata": {},
     "output_type": "execute_result"
    }
   ],
   "source": [
    "signatures['QuestionAnswering']"
   ]
  },
  {
   "cell_type": "code",
   "execution_count": 73,
   "metadata": {},
   "outputs": [],
   "source": [
    "# Predict class uses a signature of this form \n",
    "# only a single Predict class is required\n",
    "qa_pred = Predict('question -> answer')\n"
   ]
  },
  {
   "cell_type": "code",
   "execution_count": 74,
   "metadata": {},
   "outputs": [
    {
     "data": {
      "text/html": [
       "<pre style=\"white-space:pre;overflow-x:auto;line-height:normal;font-family:Menlo,'DejaVu Sans Mono',consolas,'Courier New',monospace\"><span style=\"color: #800080; text-decoration-color: #800080; font-weight: bold\">Predict</span><span style=\"font-weight: bold\">(</span><span style=\"color: #800080; text-decoration-color: #800080; font-weight: bold\">StringSignature</span><span style=\"font-weight: bold\">(</span>question -&gt; answer\n",
       "    <span style=\"color: #808000; text-decoration-color: #808000\">instructions</span>=<span style=\"color: #008000; text-decoration-color: #008000\">'Given the fields `question`, produce the fields `answer`.'</span>\n",
       "    question = <span style=\"color: #800080; text-decoration-color: #800080; font-weight: bold\">Field</span><span style=\"font-weight: bold\">(</span><span style=\"color: #808000; text-decoration-color: #808000\">annotation</span>=<span style=\"color: #800080; text-decoration-color: #800080\">str</span> <span style=\"color: #808000; text-decoration-color: #808000\">required</span>=<span style=\"color: #00ff00; text-decoration-color: #00ff00; font-style: italic\">True</span> <span style=\"color: #808000; text-decoration-color: #808000\">json_schema_extra</span>=<span style=\"font-weight: bold\">{</span><span style=\"color: #008000; text-decoration-color: #008000\">'__dspy_field_type'</span>: <span style=\"color: #008000; text-decoration-color: #008000\">'input'</span>, <span style=\"color: #008000; text-decoration-color: #008000\">'prefix'</span>: \n",
       "<span style=\"color: #008000; text-decoration-color: #008000\">'Question:'</span>, <span style=\"color: #008000; text-decoration-color: #008000\">'desc'</span>: <span style=\"color: #008000; text-decoration-color: #008000\">'${question}'</span><span style=\"font-weight: bold\">})</span>\n",
       "    answer = <span style=\"color: #800080; text-decoration-color: #800080; font-weight: bold\">Field</span><span style=\"font-weight: bold\">(</span><span style=\"color: #808000; text-decoration-color: #808000\">annotation</span>=<span style=\"color: #800080; text-decoration-color: #800080\">str</span> <span style=\"color: #808000; text-decoration-color: #808000\">required</span>=<span style=\"color: #00ff00; text-decoration-color: #00ff00; font-style: italic\">True</span> <span style=\"color: #808000; text-decoration-color: #808000\">json_schema_extra</span>=<span style=\"font-weight: bold\">{</span><span style=\"color: #008000; text-decoration-color: #008000\">'__dspy_field_type'</span>: <span style=\"color: #008000; text-decoration-color: #008000\">'output'</span>, <span style=\"color: #008000; text-decoration-color: #008000\">'prefix'</span>: \n",
       "<span style=\"color: #008000; text-decoration-color: #008000\">'Answer:'</span>, <span style=\"color: #008000; text-decoration-color: #008000\">'desc'</span>: <span style=\"color: #008000; text-decoration-color: #008000\">'${answer}'</span><span style=\"font-weight: bold\">})</span>\n",
       "<span style=\"font-weight: bold\">))</span>\n",
       "</pre>\n"
      ],
      "text/plain": [
       "\u001b[1;35mPredict\u001b[0m\u001b[1m(\u001b[0m\u001b[1;35mStringSignature\u001b[0m\u001b[1m(\u001b[0mquestion -> answer\n",
       "    \u001b[33minstructions\u001b[0m=\u001b[32m'Given the fields `question`, produce the fields `answer`.'\u001b[0m\n",
       "    question = \u001b[1;35mField\u001b[0m\u001b[1m(\u001b[0m\u001b[33mannotation\u001b[0m=\u001b[35mstr\u001b[0m \u001b[33mrequired\u001b[0m=\u001b[3;92mTrue\u001b[0m \u001b[33mjson_schema_extra\u001b[0m=\u001b[1m{\u001b[0m\u001b[32m'__dspy_field_type'\u001b[0m: \u001b[32m'input'\u001b[0m, \u001b[32m'prefix'\u001b[0m: \n",
       "\u001b[32m'Question:'\u001b[0m, \u001b[32m'desc'\u001b[0m: \u001b[32m'$\u001b[0m\u001b[32m{\u001b[0m\u001b[32mquestion\u001b[0m\u001b[32m}\u001b[0m\u001b[32m'\u001b[0m\u001b[1m}\u001b[0m\u001b[1m)\u001b[0m\n",
       "    answer = \u001b[1;35mField\u001b[0m\u001b[1m(\u001b[0m\u001b[33mannotation\u001b[0m=\u001b[35mstr\u001b[0m \u001b[33mrequired\u001b[0m=\u001b[3;92mTrue\u001b[0m \u001b[33mjson_schema_extra\u001b[0m=\u001b[1m{\u001b[0m\u001b[32m'__dspy_field_type'\u001b[0m: \u001b[32m'output'\u001b[0m, \u001b[32m'prefix'\u001b[0m: \n",
       "\u001b[32m'Answer:'\u001b[0m, \u001b[32m'desc'\u001b[0m: \u001b[32m'$\u001b[0m\u001b[32m{\u001b[0m\u001b[32manswer\u001b[0m\u001b[32m}\u001b[0m\u001b[32m'\u001b[0m\u001b[1m}\u001b[0m\u001b[1m)\u001b[0m\n",
       "\u001b[1m)\u001b[0m\u001b[1m)\u001b[0m\n"
      ]
     },
     "metadata": {},
     "output_type": "display_data"
    }
   ],
   "source": [
    "print(qa_pred)"
   ]
  },
  {
   "cell_type": "code",
   "execution_count": 38,
   "metadata": {},
   "outputs": [],
   "source": [
    "sum_cot = ChainOfThought('document -> summary')"
   ]
  },
  {
   "cell_type": "code",
   "execution_count": 39,
   "metadata": {},
   "outputs": [
    {
     "data": {
      "text/html": [
       "<pre style=\"white-space:pre;overflow-x:auto;line-height:normal;font-family:Menlo,'DejaVu Sans Mono',consolas,'Courier New',monospace\">self = <span style=\"color: #800080; text-decoration-color: #800080; font-weight: bold\">Predict</span><span style=\"font-weight: bold\">(</span><span style=\"color: #800080; text-decoration-color: #800080; font-weight: bold\">StringSignature</span><span style=\"font-weight: bold\">(</span>document -&gt; rationale, summary\n",
       "    <span style=\"color: #808000; text-decoration-color: #808000\">instructions</span>=<span style=\"color: #008000; text-decoration-color: #008000\">'Given the fields `document`, produce the fields `summary`.'</span>\n",
       "    document = <span style=\"color: #800080; text-decoration-color: #800080; font-weight: bold\">Field</span><span style=\"font-weight: bold\">(</span><span style=\"color: #808000; text-decoration-color: #808000\">annotation</span>=<span style=\"color: #800080; text-decoration-color: #800080\">str</span> <span style=\"color: #808000; text-decoration-color: #808000\">required</span>=<span style=\"color: #00ff00; text-decoration-color: #00ff00; font-style: italic\">True</span> <span style=\"color: #808000; text-decoration-color: #808000\">json_schema_extra</span>=<span style=\"font-weight: bold\">{</span><span style=\"color: #008000; text-decoration-color: #008000\">'__dspy_field_type'</span>: <span style=\"color: #008000; text-decoration-color: #008000\">'input'</span>, <span style=\"color: #008000; text-decoration-color: #008000\">'prefix'</span>: \n",
       "<span style=\"color: #008000; text-decoration-color: #008000\">'Document:'</span>, <span style=\"color: #008000; text-decoration-color: #008000\">'desc'</span>: <span style=\"color: #008000; text-decoration-color: #008000\">'${document}'</span><span style=\"font-weight: bold\">})</span>\n",
       "    rationale = <span style=\"color: #800080; text-decoration-color: #800080; font-weight: bold\">Field</span><span style=\"font-weight: bold\">(</span><span style=\"color: #808000; text-decoration-color: #808000\">annotation</span>=<span style=\"color: #800080; text-decoration-color: #800080\">str</span> <span style=\"color: #808000; text-decoration-color: #808000\">required</span>=<span style=\"color: #00ff00; text-decoration-color: #00ff00; font-style: italic\">True</span> <span style=\"color: #808000; text-decoration-color: #808000\">json_schema_extra</span>=<span style=\"font-weight: bold\">{</span><span style=\"color: #008000; text-decoration-color: #008000\">'prefix'</span>: <span style=\"color: #008000; text-decoration-color: #008000\">\"Reasoning: Let's think step by </span>\n",
       "<span style=\"color: #008000; text-decoration-color: #008000\">step in order to\"</span>, <span style=\"color: #008000; text-decoration-color: #008000\">'desc'</span>: <span style=\"color: #008000; text-decoration-color: #008000\">'${produce the summary}. We ...'</span>, <span style=\"color: #008000; text-decoration-color: #008000\">'__dspy_field_type'</span>: <span style=\"color: #008000; text-decoration-color: #008000\">'output'</span><span style=\"font-weight: bold\">})</span>\n",
       "    summary = <span style=\"color: #800080; text-decoration-color: #800080; font-weight: bold\">Field</span><span style=\"font-weight: bold\">(</span><span style=\"color: #808000; text-decoration-color: #808000\">annotation</span>=<span style=\"color: #800080; text-decoration-color: #800080\">str</span> <span style=\"color: #808000; text-decoration-color: #808000\">required</span>=<span style=\"color: #00ff00; text-decoration-color: #00ff00; font-style: italic\">True</span> <span style=\"color: #808000; text-decoration-color: #808000\">json_schema_extra</span>=<span style=\"font-weight: bold\">{</span><span style=\"color: #008000; text-decoration-color: #008000\">'__dspy_field_type'</span>: <span style=\"color: #008000; text-decoration-color: #008000\">'output'</span>, <span style=\"color: #008000; text-decoration-color: #008000\">'prefix'</span>: \n",
       "<span style=\"color: #008000; text-decoration-color: #008000\">'Summary:'</span>, <span style=\"color: #008000; text-decoration-color: #008000\">'desc'</span>: <span style=\"color: #008000; text-decoration-color: #008000\">'${summary}'</span><span style=\"font-weight: bold\">})</span>\n",
       "<span style=\"font-weight: bold\">))</span>\n",
       "</pre>\n"
      ],
      "text/plain": [
       "self = \u001b[1;35mPredict\u001b[0m\u001b[1m(\u001b[0m\u001b[1;35mStringSignature\u001b[0m\u001b[1m(\u001b[0mdocument -> rationale, summary\n",
       "    \u001b[33minstructions\u001b[0m=\u001b[32m'Given the fields `document`, produce the fields `summary`.'\u001b[0m\n",
       "    document = \u001b[1;35mField\u001b[0m\u001b[1m(\u001b[0m\u001b[33mannotation\u001b[0m=\u001b[35mstr\u001b[0m \u001b[33mrequired\u001b[0m=\u001b[3;92mTrue\u001b[0m \u001b[33mjson_schema_extra\u001b[0m=\u001b[1m{\u001b[0m\u001b[32m'__dspy_field_type'\u001b[0m: \u001b[32m'input'\u001b[0m, \u001b[32m'prefix'\u001b[0m: \n",
       "\u001b[32m'Document:'\u001b[0m, \u001b[32m'desc'\u001b[0m: \u001b[32m'$\u001b[0m\u001b[32m{\u001b[0m\u001b[32mdocument\u001b[0m\u001b[32m}\u001b[0m\u001b[32m'\u001b[0m\u001b[1m}\u001b[0m\u001b[1m)\u001b[0m\n",
       "    rationale = \u001b[1;35mField\u001b[0m\u001b[1m(\u001b[0m\u001b[33mannotation\u001b[0m=\u001b[35mstr\u001b[0m \u001b[33mrequired\u001b[0m=\u001b[3;92mTrue\u001b[0m \u001b[33mjson_schema_extra\u001b[0m=\u001b[1m{\u001b[0m\u001b[32m'prefix'\u001b[0m: \u001b[32m\"Reasoning: Let's think step by \u001b[0m\n",
       "\u001b[32mstep in order to\"\u001b[0m, \u001b[32m'desc'\u001b[0m: \u001b[32m'$\u001b[0m\u001b[32m{\u001b[0m\u001b[32mproduce the summary\u001b[0m\u001b[32m}\u001b[0m\u001b[32m. We ...'\u001b[0m, \u001b[32m'__dspy_field_type'\u001b[0m: \u001b[32m'output'\u001b[0m\u001b[1m}\u001b[0m\u001b[1m)\u001b[0m\n",
       "    summary = \u001b[1;35mField\u001b[0m\u001b[1m(\u001b[0m\u001b[33mannotation\u001b[0m=\u001b[35mstr\u001b[0m \u001b[33mrequired\u001b[0m=\u001b[3;92mTrue\u001b[0m \u001b[33mjson_schema_extra\u001b[0m=\u001b[1m{\u001b[0m\u001b[32m'__dspy_field_type'\u001b[0m: \u001b[32m'output'\u001b[0m, \u001b[32m'prefix'\u001b[0m: \n",
       "\u001b[32m'Summary:'\u001b[0m, \u001b[32m'desc'\u001b[0m: \u001b[32m'$\u001b[0m\u001b[32m{\u001b[0m\u001b[32msummary\u001b[0m\u001b[32m}\u001b[0m\u001b[32m'\u001b[0m\u001b[1m}\u001b[0m\u001b[1m)\u001b[0m\n",
       "\u001b[1m)\u001b[0m\u001b[1m)\u001b[0m\n"
      ]
     },
     "metadata": {},
     "output_type": "display_data"
    }
   ],
   "source": [
    "print(sum_cot)"
   ]
  },
  {
   "cell_type": "code",
   "execution_count": 40,
   "metadata": {},
   "outputs": [],
   "source": [
    "from dspy import(\n",
    "    InputField,\n",
    "    OutputField\n",
    ")\n",
    "\n",
    "class MultiClass(Signature):\n",
    "    \"\"\"Classift the given data into Address, Humans Name, Location, Building, Amount\"\"\"\n",
    "    sentence = InputField(desc=\"data to be specified\")\n",
    "    data_type = OutputField(desc=\"falls in one of categories\")\n",
    "\n"
   ]
  },
  {
   "cell_type": "code",
   "execution_count": 41,
   "metadata": {},
   "outputs": [
    {
     "data": {
      "text/html": [
       "<pre style=\"white-space:pre;overflow-x:auto;line-height:normal;font-family:Menlo,'DejaVu Sans Mono',consolas,'Courier New',monospace\"><span style=\"color: #800080; text-decoration-color: #800080; font-weight: bold\">Predict</span><span style=\"font-weight: bold\">(</span><span style=\"color: #800080; text-decoration-color: #800080; font-weight: bold\">MultiClass</span><span style=\"font-weight: bold\">(</span>sentence -&gt; data_type\n",
       "    <span style=\"color: #808000; text-decoration-color: #808000\">instructions</span>=<span style=\"color: #008000; text-decoration-color: #008000\">'Classift the given data into Address, Humans Name, Location, Building, Amount'</span>\n",
       "    sentence = <span style=\"color: #800080; text-decoration-color: #800080; font-weight: bold\">Field</span><span style=\"font-weight: bold\">(</span><span style=\"color: #808000; text-decoration-color: #808000\">annotation</span>=<span style=\"color: #800080; text-decoration-color: #800080\">str</span> <span style=\"color: #808000; text-decoration-color: #808000\">required</span>=<span style=\"color: #00ff00; text-decoration-color: #00ff00; font-style: italic\">True</span> <span style=\"color: #808000; text-decoration-color: #808000\">json_schema_extra</span>=<span style=\"font-weight: bold\">{</span><span style=\"color: #008000; text-decoration-color: #008000\">'desc'</span>: <span style=\"color: #008000; text-decoration-color: #008000\">'data to be specified'</span>, \n",
       "<span style=\"color: #008000; text-decoration-color: #008000\">'__dspy_field_type'</span>: <span style=\"color: #008000; text-decoration-color: #008000\">'input'</span>, <span style=\"color: #008000; text-decoration-color: #008000\">'prefix'</span>: <span style=\"color: #008000; text-decoration-color: #008000\">'Sentence:'</span><span style=\"font-weight: bold\">})</span>\n",
       "    data_type = <span style=\"color: #800080; text-decoration-color: #800080; font-weight: bold\">Field</span><span style=\"font-weight: bold\">(</span><span style=\"color: #808000; text-decoration-color: #808000\">annotation</span>=<span style=\"color: #800080; text-decoration-color: #800080\">str</span> <span style=\"color: #808000; text-decoration-color: #808000\">required</span>=<span style=\"color: #00ff00; text-decoration-color: #00ff00; font-style: italic\">True</span> <span style=\"color: #808000; text-decoration-color: #808000\">json_schema_extra</span>=<span style=\"font-weight: bold\">{</span><span style=\"color: #008000; text-decoration-color: #008000\">'desc'</span>: <span style=\"color: #008000; text-decoration-color: #008000\">'falls in one of categories'</span>, \n",
       "<span style=\"color: #008000; text-decoration-color: #008000\">'__dspy_field_type'</span>: <span style=\"color: #008000; text-decoration-color: #008000\">'output'</span>, <span style=\"color: #008000; text-decoration-color: #008000\">'prefix'</span>: <span style=\"color: #008000; text-decoration-color: #008000\">'Data Type:'</span><span style=\"font-weight: bold\">})</span>\n",
       "<span style=\"font-weight: bold\">))</span>\n",
       "</pre>\n"
      ],
      "text/plain": [
       "\u001b[1;35mPredict\u001b[0m\u001b[1m(\u001b[0m\u001b[1;35mMultiClass\u001b[0m\u001b[1m(\u001b[0msentence -> data_type\n",
       "    \u001b[33minstructions\u001b[0m=\u001b[32m'Classift the given data into Address, Humans Name, Location, Building, Amount'\u001b[0m\n",
       "    sentence = \u001b[1;35mField\u001b[0m\u001b[1m(\u001b[0m\u001b[33mannotation\u001b[0m=\u001b[35mstr\u001b[0m \u001b[33mrequired\u001b[0m=\u001b[3;92mTrue\u001b[0m \u001b[33mjson_schema_extra\u001b[0m=\u001b[1m{\u001b[0m\u001b[32m'desc'\u001b[0m: \u001b[32m'data to be specified'\u001b[0m, \n",
       "\u001b[32m'__dspy_field_type'\u001b[0m: \u001b[32m'input'\u001b[0m, \u001b[32m'prefix'\u001b[0m: \u001b[32m'Sentence:'\u001b[0m\u001b[1m}\u001b[0m\u001b[1m)\u001b[0m\n",
       "    data_type = \u001b[1;35mField\u001b[0m\u001b[1m(\u001b[0m\u001b[33mannotation\u001b[0m=\u001b[35mstr\u001b[0m \u001b[33mrequired\u001b[0m=\u001b[3;92mTrue\u001b[0m \u001b[33mjson_schema_extra\u001b[0m=\u001b[1m{\u001b[0m\u001b[32m'desc'\u001b[0m: \u001b[32m'falls in one of categories'\u001b[0m, \n",
       "\u001b[32m'__dspy_field_type'\u001b[0m: \u001b[32m'output'\u001b[0m, \u001b[32m'prefix'\u001b[0m: \u001b[32m'Data Type:'\u001b[0m\u001b[1m}\u001b[0m\u001b[1m)\u001b[0m\n",
       "\u001b[1m)\u001b[0m\u001b[1m)\u001b[0m\n"
      ]
     },
     "metadata": {},
     "output_type": "display_data"
    }
   ],
   "source": [
    "pred_class = Predict(MultiClass)\n",
    "print(pred_class)"
   ]
  },
  {
   "cell_type": "code",
   "execution_count": 42,
   "metadata": {},
   "outputs": [
    {
     "data": {
      "text/html": [
       "<pre style=\"white-space:pre;overflow-x:auto;line-height:normal;font-family:Menlo,'DejaVu Sans Mono',consolas,'Courier New',monospace\">Response by OPENAI:  <span style=\"font-weight: bold\">{</span>\n",
       "  <span style=\"color: #008000; text-decoration-color: #008000\">\"Address\"</span>: <span style=\"color: #008000; text-decoration-color: #008000\">\"123 Main Street\"</span>,\n",
       "  <span style=\"color: #008000; text-decoration-color: #008000\">\"Location\"</span>: <span style=\"color: #008000; text-decoration-color: #008000\">\"New York City\"</span>,\n",
       "  <span style=\"color: #008000; text-decoration-color: #008000\">\"Human Name\"</span>: <span style=\"color: #008000; text-decoration-color: #008000\">\"John Doe\"</span>,\n",
       "  <span style=\"color: #008000; text-decoration-color: #008000\">\"Building Name\"</span>: <span style=\"color: #008000; text-decoration-color: #008000\">\"Empire State Building\"</span>,\n",
       "  <span style=\"color: #008000; text-decoration-color: #008000\">\"Amount\"</span>: <span style=\"color: #008000; text-decoration-color: #008000\">\"$100\"</span>\n",
       "<span style=\"font-weight: bold\">}</span>\n",
       "</pre>\n"
      ],
      "text/plain": [
       "Response by OPENAI:  \u001b[1m{\u001b[0m\n",
       "  \u001b[32m\"Address\"\u001b[0m: \u001b[32m\"123 Main Street\"\u001b[0m,\n",
       "  \u001b[32m\"Location\"\u001b[0m: \u001b[32m\"New York City\"\u001b[0m,\n",
       "  \u001b[32m\"Human Name\"\u001b[0m: \u001b[32m\"John Doe\"\u001b[0m,\n",
       "  \u001b[32m\"Building Name\"\u001b[0m: \u001b[32m\"Empire State Building\"\u001b[0m,\n",
       "  \u001b[32m\"Amount\"\u001b[0m: \u001b[32m\"$100\"\u001b[0m\n",
       "\u001b[1m}\u001b[0m\n"
      ]
     },
     "metadata": {},
     "output_type": "display_data"
    }
   ],
   "source": [
    "get_json_data = Predict('required_data -> json_output')\n",
    "\n",
    "prompt=\"provide me one eg of Address, Location, Human Name, building name and amount\"\n",
    "\n",
    "with context(lm=turbo):\n",
    "    response = get_json_data(required_data=prompt)\n",
    "    print(\"Response by OPENAI: \", response.json_output)"
   ]
  },
  {
   "cell_type": "code",
   "execution_count": 43,
   "metadata": {},
   "outputs": [],
   "source": [
    "data= json.loads(response.json_output)"
   ]
  },
  {
   "cell_type": "markdown",
   "metadata": {},
   "source": [
    "# Program of Thought\n"
   ]
  },
  {
   "cell_type": "code",
   "execution_count": 44,
   "metadata": {},
   "outputs": [],
   "source": [
    "from dspy import ProgramOfThought"
   ]
  },
  {
   "cell_type": "code",
   "execution_count": 45,
   "metadata": {},
   "outputs": [
    {
     "data": {
      "text/html": [
       "<pre style=\"white-space:pre;overflow-x:auto;line-height:normal;font-family:Menlo,'DejaVu Sans Mono',consolas,'Courier New',monospace\">Question:Hritik has <span style=\"color: #008080; text-decoration-color: #008080; font-weight: bold\">5</span> apples. He buys <span style=\"color: #008080; text-decoration-color: #008080; font-weight: bold\">3</span> more apples. How many apples does he have now?\n",
       "</pre>\n"
      ],
      "text/plain": [
       "Question:Hritik has \u001b[1;36m5\u001b[0m apples. He buys \u001b[1;36m3\u001b[0m more apples. How many apples does he have now?\n"
      ]
     },
     "metadata": {},
     "output_type": "display_data"
    },
    {
     "data": {
      "text/html": [
       "<pre style=\"white-space:pre;overflow-x:auto;line-height:normal;font-family:Menlo,'DejaVu Sans Mono',consolas,'Courier New',monospace\">Answer:<span style=\"color: #800080; text-decoration-color: #800080; font-weight: bold\">Prediction</span><span style=\"font-weight: bold\">(</span>\n",
       "    <span style=\"color: #808000; text-decoration-color: #808000\">rationale</span>=<span style=\"color: #008000; text-decoration-color: #008000\">'produce the answer. We first define the initial number of apples Hritik has as 5 and the number of </span>\n",
       "<span style=\"color: #008000; text-decoration-color: #008000\">apples he buys as 3. By adding these two values together, we can calculate the total number of apples Hritik has </span>\n",
       "<span style=\"color: #008000; text-decoration-color: #008000\">now.'</span>,\n",
       "    <span style=\"color: #808000; text-decoration-color: #808000\">answer</span>=<span style=\"color: #008000; text-decoration-color: #008000\">'Hritik has 8 apples now.'</span>\n",
       "<span style=\"font-weight: bold\">)</span>\n",
       "</pre>\n"
      ],
      "text/plain": [
       "Answer:\u001b[1;35mPrediction\u001b[0m\u001b[1m(\u001b[0m\n",
       "    \u001b[33mrationale\u001b[0m=\u001b[32m'produce the answer. We first define the initial number of apples Hritik has as 5 and the number of \u001b[0m\n",
       "\u001b[32mapples he buys as 3. By adding these two values together, we can calculate the total number of apples Hritik has \u001b[0m\n",
       "\u001b[32mnow.'\u001b[0m,\n",
       "    \u001b[33manswer\u001b[0m=\u001b[32m'Hritik has 8 apples now.'\u001b[0m\n",
       "\u001b[1m)\u001b[0m\n"
      ]
     },
     "metadata": {},
     "output_type": "display_data"
    }
   ],
   "source": [
    "generate_answer_signature= Signature(\"question -> answer\")\n",
    "\n",
    "#pass the sig to ProgramOfThought Module\n",
    "pot = ProgramOfThought(generate_answer_signature)\n",
    "\n",
    "#call the program of thought Module on a prompt\n",
    "question='Hritik has 5 apples. He buys 3 more apples. How many apples does he have now?'\n",
    "result = pot(question=question)\n",
    "\n",
    "print(f\"Question:{question}\")\n",
    "print(f\"Answer:{result}\")\n"
   ]
  },
  {
   "cell_type": "code",
   "execution_count": 46,
   "metadata": {},
   "outputs": [
    {
     "name": "stdout",
     "output_type": "stream",
     "text": [
      "\n",
      "\n",
      "\n",
      "Given the fields `required_data`, produce the fields `json_output`.\n",
      "\n",
      "---\n",
      "\n",
      "Follow the following format.\n",
      "\n",
      "Required Data: ${required_data}\n",
      "Json Output: ${json_output}\n",
      "\n",
      "---\n",
      "\n",
      "Required Data: provide me one eg of Address, Location, Human Name, building name and amount\n",
      "Json Output:\u001b[32m {\n",
      "  \"Address\": \"123 Main Street\",\n",
      "  \"Location\": \"New York City\",\n",
      "  \"Human Name\": \"John Doe\",\n",
      "  \"Building Name\": \"Empire State Building\",\n",
      "  \"Amount\": \"$100\"\n",
      "}\u001b[0m\n",
      "\n",
      "\n",
      "\n",
      "\n",
      "\n",
      "You will be given `question` and you will respond with `answer`.\n",
      "Generating executable Python code that programmatically computes the correct `answer`.\n",
      "After you're done with the computation, make sure the last line in your code evaluates to the correct value for `answer`.\n",
      "\n",
      "---\n",
      "\n",
      "Follow the following format.\n",
      "\n",
      "Question: ${question}\n",
      "Reasoning: Let's think step by step in order to ${produce the generated_code}. We ...\n",
      "Code: python code that answers the question\n",
      "\n",
      "---\n",
      "\n",
      "Question: Hritik has 5 apples. He buys 3 more apples. How many apples does he have now?\n",
      "Reasoning: Let's think step by step in order to\u001b[32m produce the generated_code. We start with the initial number of apples Hritik has, which is 5. Then, we add the number of apples he buys, which is 3.\n",
      "Code:\n",
      "```python\n",
      "initial_apples = 5\n",
      "apples_bought = 3\n",
      "total_apples = initial_apples + apples_bought\n",
      "total_apples\n",
      "```\u001b[0m\n",
      "\n",
      "\n",
      "\n",
      "\n",
      "\n",
      "Given the final code `question`, `final_generated_code`, `code_output`, provide the final `answer`.\n",
      "\n",
      "---\n",
      "\n",
      "Follow the following format.\n",
      "\n",
      "Question: ${question}\n",
      "\n",
      "Code: python code that answers the question\n",
      "\n",
      "Code Output: output of previously-generated python code\n",
      "\n",
      "Reasoning: Let's think step by step in order to ${produce the answer}. We ...\n",
      "\n",
      "Answer: ${answer}\n",
      "\n",
      "---\n",
      "\n",
      "Question: Hritik has 5 apples. He buys 3 more apples. How many apples does he have now?\n",
      "\n",
      "Code:\n",
      "initial_apples = 5\n",
      "apples_bought = 3\n",
      "total_apples = initial_apples + apples_bought\n",
      "total_apples\n",
      "\n",
      "Code Output: 8\n",
      "\n",
      "Reasoning: Let's think step by step in order to\u001b[32m produce the answer. We first define the initial number of apples Hritik has as 5 and the number of apples he buys as 3. By adding these two values together, we can calculate the total number of apples Hritik has now.\n",
      "\n",
      "Answer: Hritik has 8 apples now.\u001b[0m\n",
      "\n",
      "\n",
      "\n"
     ]
    },
    {
     "data": {
      "text/plain": [
       "'\\n\\n\\nGiven the fields `required_data`, produce the fields `json_output`.\\n\\n---\\n\\nFollow the following format.\\n\\nRequired Data: ${required_data}\\nJson Output: ${json_output}\\n\\n---\\n\\nRequired Data: provide me one eg of Address, Location, Human Name, building name and amount\\nJson Output:\\x1b[32m {\\n  \"Address\": \"123 Main Street\",\\n  \"Location\": \"New York City\",\\n  \"Human Name\": \"John Doe\",\\n  \"Building Name\": \"Empire State Building\",\\n  \"Amount\": \"$100\"\\n}\\x1b[0m\\n\\n\\n\\n\\n\\nYou will be given `question` and you will respond with `answer`.\\nGenerating executable Python code that programmatically computes the correct `answer`.\\nAfter you\\'re done with the computation, make sure the last line in your code evaluates to the correct value for `answer`.\\n\\n---\\n\\nFollow the following format.\\n\\nQuestion: ${question}\\nReasoning: Let\\'s think step by step in order to ${produce the generated_code}. We ...\\nCode: python code that answers the question\\n\\n---\\n\\nQuestion: Hritik has 5 apples. He buys 3 more apples. How many apples does he have now?\\nReasoning: Let\\'s think step by step in order to\\x1b[32m produce the generated_code. We start with the initial number of apples Hritik has, which is 5. Then, we add the number of apples he buys, which is 3.\\nCode:\\n```python\\ninitial_apples = 5\\napples_bought = 3\\ntotal_apples = initial_apples + apples_bought\\ntotal_apples\\n```\\x1b[0m\\n\\n\\n\\n\\n\\nGiven the final code `question`, `final_generated_code`, `code_output`, provide the final `answer`.\\n\\n---\\n\\nFollow the following format.\\n\\nQuestion: ${question}\\n\\nCode: python code that answers the question\\n\\nCode Output: output of previously-generated python code\\n\\nReasoning: Let\\'s think step by step in order to ${produce the answer}. We ...\\n\\nAnswer: ${answer}\\n\\n---\\n\\nQuestion: Hritik has 5 apples. He buys 3 more apples. How many apples does he have now?\\n\\nCode:\\ninitial_apples = 5\\napples_bought = 3\\ntotal_apples = initial_apples + apples_bought\\ntotal_apples\\n\\nCode Output: 8\\n\\nReasoning: Let\\'s think step by step in order to\\x1b[32m produce the answer. We first define the initial number of apples Hritik has as 5 and the number of apples he buys as 3. By adding these two values together, we can calculate the total number of apples Hritik has now.\\n\\nAnswer: Hritik has 8 apples now.\\x1b[0m\\n\\n\\n'"
      ]
     },
     "execution_count": 46,
     "metadata": {},
     "output_type": "execute_result"
    }
   ],
   "source": [
    "turbo.inspect_history(n=6)"
   ]
  },
  {
   "cell_type": "markdown",
   "metadata": {},
   "source": [
    "# Retrieve"
   ]
  },
  {
   "cell_type": "code",
   "execution_count": 47,
   "metadata": {},
   "outputs": [],
   "source": [
    "# updating the LLM \n",
    "\n",
    "from dspy import ColBERTv2\n",
    "\n",
    "colbert_wiki_rm=ColBERTv2(url='http://20.102.90.50:2017/wiki17_abstracts')\n",
    "settings.configure(lm=turbo, rm=colbert_wiki_rm)"
   ]
  },
  {
   "cell_type": "code",
   "execution_count": 48,
   "metadata": {},
   "outputs": [
    {
     "data": {
      "text/html": [
       "<pre style=\"white-space:pre;overflow-x:auto;line-height:normal;font-family:Menlo,'DejaVu Sans Mono',consolas,'Courier New',monospace\">Passage <span style=\"color: #008080; text-decoration-color: #008080; font-weight: bold\">1</span>: History of the FIFA World Cup | The FIFA World Cup was first held in <span style=\"color: #008080; text-decoration-color: #008080; font-weight: bold\">1930</span>, when FIFA president Jules \n",
       "Rimet decided to stage an international football tournament. The inaugural edition, held in <span style=\"color: #008080; text-decoration-color: #008080; font-weight: bold\">1930</span>, was contested as \n",
       "a final tournament of only thirteen teams invited by the organization. Since then, the World Cup has experienced \n",
       "successive expansions and format remodeling to its current <span style=\"color: #008080; text-decoration-color: #008080; font-weight: bold\">32</span>-team final tournament preceded by a two-year \n",
       "qualifying process, involving over <span style=\"color: #008080; text-decoration-color: #008080; font-weight: bold\">200</span> teams from around the world. \n",
       "\n",
       "</pre>\n"
      ],
      "text/plain": [
       "Passage \u001b[1;36m1\u001b[0m: History of the FIFA World Cup | The FIFA World Cup was first held in \u001b[1;36m1930\u001b[0m, when FIFA president Jules \n",
       "Rimet decided to stage an international football tournament. The inaugural edition, held in \u001b[1;36m1930\u001b[0m, was contested as \n",
       "a final tournament of only thirteen teams invited by the organization. Since then, the World Cup has experienced \n",
       "successive expansions and format remodeling to its current \u001b[1;36m32\u001b[0m-team final tournament preceded by a two-year \n",
       "qualifying process, involving over \u001b[1;36m200\u001b[0m teams from around the world. \n",
       "\n"
      ]
     },
     "metadata": {},
     "output_type": "display_data"
    },
    {
     "data": {
      "text/html": [
       "<pre style=\"white-space:pre;overflow-x:auto;line-height:normal;font-family:Menlo,'DejaVu Sans Mono',consolas,'Courier New',monospace\">Passage <span style=\"color: #008080; text-decoration-color: #008080; font-weight: bold\">2</span>: <span style=\"color: #008080; text-decoration-color: #008080; font-weight: bold\">1950</span> FIFA World Cup | The <span style=\"color: #008080; text-decoration-color: #008080; font-weight: bold\">1950</span> FIFA World Cup, held in Brazil from <span style=\"color: #008080; text-decoration-color: #008080; font-weight: bold\">24</span> June to <span style=\"color: #008080; text-decoration-color: #008080; font-weight: bold\">16</span> July <span style=\"color: #008080; text-decoration-color: #008080; font-weight: bold\">1950</span>, was the \n",
       "fourth FIFA World Cup. It was the first World Cup since <span style=\"color: #008080; text-decoration-color: #008080; font-weight: bold\">1938</span>, the planned <span style=\"color: #008080; text-decoration-color: #008080; font-weight: bold\">1942</span> and <span style=\"color: #008080; text-decoration-color: #008080; font-weight: bold\">1946</span> competitions having been \n",
       "cancelled owing to World War II. It was won by Uruguay, who had won the inaugural competition in <span style=\"color: #008080; text-decoration-color: #008080; font-weight: bold\">1930</span>, clinching \n",
       "the cup by beating the hosts Brazil <span style=\"color: #008080; text-decoration-color: #008080; font-weight: bold\">2</span>–<span style=\"color: #008080; text-decoration-color: #008080; font-weight: bold\">1</span> in the deciding match of the four-team final group <span style=\"font-weight: bold\">(</span>this was the only \n",
       "tournament not decided by a one-match final<span style=\"font-weight: bold\">)</span>. It was also the first tournament where the trophy was referred to as \n",
       "the Jules Rimet Cup, to mark the 25th anniversary of Jules Rimet's presidency of FIFA. \n",
       "\n",
       "</pre>\n"
      ],
      "text/plain": [
       "Passage \u001b[1;36m2\u001b[0m: \u001b[1;36m1950\u001b[0m FIFA World Cup | The \u001b[1;36m1950\u001b[0m FIFA World Cup, held in Brazil from \u001b[1;36m24\u001b[0m June to \u001b[1;36m16\u001b[0m July \u001b[1;36m1950\u001b[0m, was the \n",
       "fourth FIFA World Cup. It was the first World Cup since \u001b[1;36m1938\u001b[0m, the planned \u001b[1;36m1942\u001b[0m and \u001b[1;36m1946\u001b[0m competitions having been \n",
       "cancelled owing to World War II. It was won by Uruguay, who had won the inaugural competition in \u001b[1;36m1930\u001b[0m, clinching \n",
       "the cup by beating the hosts Brazil \u001b[1;36m2\u001b[0m–\u001b[1;36m1\u001b[0m in the deciding match of the four-team final group \u001b[1m(\u001b[0mthis was the only \n",
       "tournament not decided by a one-match final\u001b[1m)\u001b[0m. It was also the first tournament where the trophy was referred to as \n",
       "the Jules Rimet Cup, to mark the 25th anniversary of Jules Rimet's presidency of FIFA. \n",
       "\n"
      ]
     },
     "metadata": {},
     "output_type": "display_data"
    }
   ],
   "source": [
    "query ='When was the first fifa world cup held'\n",
    "\n",
    "retrieve = Retrieve(k=2)\n",
    "\n",
    "topk = retrieve(query).passages\n",
    "\n",
    "for i, passage in enumerate(topk):\n",
    "    print(f\"Passage {i+1}: {passage} \\n\")\n",
    "\n"
   ]
  },
  {
   "cell_type": "code",
   "execution_count": 49,
   "metadata": {},
   "outputs": [
    {
     "data": {
      "text/html": [
       "<pre style=\"white-space:pre;overflow-x:auto;line-height:normal;font-family:Menlo,'DejaVu Sans Mono',consolas,'Courier New',monospace\"><span style=\"color: #800080; text-decoration-color: #800080; font-weight: bold\">Prediction</span><span style=\"font-weight: bold\">(</span>\n",
       "    <span style=\"color: #808000; text-decoration-color: #808000\">passages</span>=<span style=\"font-weight: bold\">[</span><span style=\"color: #008000; text-decoration-color: #008000\">'History of the FIFA World Cup | The FIFA World Cup was first held in 1930, when FIFA president Jules</span>\n",
       "<span style=\"color: #008000; text-decoration-color: #008000\">Rimet decided to stage an international football tournament. The inaugural edition, held in 1930, was contested as </span>\n",
       "<span style=\"color: #008000; text-decoration-color: #008000\">a final tournament of only thirteen teams invited by the organization. Since then, the World Cup has experienced </span>\n",
       "<span style=\"color: #008000; text-decoration-color: #008000\">successive expansions and format remodeling to its current 32-team final tournament preceded by a two-year </span>\n",
       "<span style=\"color: #008000; text-decoration-color: #008000\">qualifying process, involving over 200 teams from around the world.'</span>, <span style=\"color: #008000; text-decoration-color: #008000\">\"1950 FIFA World Cup | The 1950 FIFA World </span>\n",
       "<span style=\"color: #008000; text-decoration-color: #008000\">Cup, held in Brazil from 24 June to 16 July 1950, was the fourth FIFA World Cup. It was the first World Cup since </span>\n",
       "<span style=\"color: #008000; text-decoration-color: #008000\">1938, the planned 1942 and 1946 competitions having been cancelled owing to World War II. It was won by Uruguay, </span>\n",
       "<span style=\"color: #008000; text-decoration-color: #008000\">who had won the inaugural competition in 1930, clinching the cup by beating the hosts Brazil 2–1 in the deciding </span>\n",
       "<span style=\"color: #008000; text-decoration-color: #008000\">match of the four-team final group (this was the only tournament not decided by a one-match final). It was also the</span>\n",
       "<span style=\"color: #008000; text-decoration-color: #008000\">first tournament where the trophy was referred to as the Jules Rimet Cup, to mark the 25th anniversary of Jules </span>\n",
       "<span style=\"color: #008000; text-decoration-color: #008000\">Rimet's presidency of FIFA.\"</span><span style=\"font-weight: bold\">]</span>\n",
       "<span style=\"font-weight: bold\">)</span>\n",
       "</pre>\n"
      ],
      "text/plain": [
       "\u001b[1;35mPrediction\u001b[0m\u001b[1m(\u001b[0m\n",
       "    \u001b[33mpassages\u001b[0m=\u001b[1m[\u001b[0m\u001b[32m'History of the FIFA World Cup | The FIFA World Cup was first held in 1930, when FIFA president Jules\u001b[0m\n",
       "\u001b[32mRimet decided to stage an international football tournament. The inaugural edition, held in 1930, was contested as \u001b[0m\n",
       "\u001b[32ma final tournament of only thirteen teams invited by the organization. Since then, the World Cup has experienced \u001b[0m\n",
       "\u001b[32msuccessive expansions and format remodeling to its current 32-team final tournament preceded by a two-year \u001b[0m\n",
       "\u001b[32mqualifying process, involving over 200 teams from around the world.'\u001b[0m, \u001b[32m\"1950 FIFA World Cup | The 1950 FIFA World \u001b[0m\n",
       "\u001b[32mCup, held in Brazil from 24 June to 16 July 1950, was the fourth FIFA World Cup. It was the first World Cup since \u001b[0m\n",
       "\u001b[32m1938, the planned 1942 and 1946 competitions having been cancelled owing to World War II. It was won by Uruguay, \u001b[0m\n",
       "\u001b[32mwho had won the inaugural competition in 1930, clinching the cup by beating the hosts Brazil 2–1 in the deciding \u001b[0m\n",
       "\u001b[32mmatch of the four-team final group \u001b[0m\u001b[32m(\u001b[0m\u001b[32mthis was the only tournament not decided by a one-match final\u001b[0m\u001b[32m)\u001b[0m\u001b[32m. It was also the\u001b[0m\n",
       "\u001b[32mfirst tournament where the trophy was referred to as the Jules Rimet Cup, to mark the 25th anniversary of Jules \u001b[0m\n",
       "\u001b[32mRimet's presidency of FIFA.\"\u001b[0m\u001b[1m]\u001b[0m\n",
       "\u001b[1m)\u001b[0m\n"
      ]
     },
     "metadata": {},
     "output_type": "display_data"
    }
   ],
   "source": [
    "raw_retrieval = retrieve(query)\n",
    "print(raw_retrieval)"
   ]
  },
  {
   "cell_type": "code",
   "execution_count": 50,
   "metadata": {},
   "outputs": [],
   "source": [
    "retrieval_qa = Predict(\"question, context -> answer\")\n",
    "\n",
    "output = retrieval_qa(question=query, context=raw_retrieval.passages)"
   ]
  },
  {
   "cell_type": "code",
   "execution_count": 51,
   "metadata": {},
   "outputs": [
    {
     "data": {
      "text/html": [
       "<pre style=\"white-space:pre;overflow-x:auto;line-height:normal;font-family:Menlo,'DejaVu Sans Mono',consolas,'Courier New',monospace\"><span style=\"color: #800080; text-decoration-color: #800080; font-weight: bold\">Prediction</span><span style=\"font-weight: bold\">(</span>\n",
       "    <span style=\"color: #808000; text-decoration-color: #808000\">answer</span>=<span style=\"color: #008000; text-decoration-color: #008000\">'Question: When was the first FIFA World Cup held?\\nContext: The FIFA World Cup was first held in 1930, </span>\n",
       "<span style=\"color: #008000; text-decoration-color: #008000\">when FIFA president Jules Rimet decided to stage an international football tournament.\\nAnswer: 1930'</span>\n",
       "<span style=\"font-weight: bold\">)</span>\n",
       "</pre>\n"
      ],
      "text/plain": [
       "\u001b[1;35mPrediction\u001b[0m\u001b[1m(\u001b[0m\n",
       "    \u001b[33manswer\u001b[0m=\u001b[32m'Question: When was the first FIFA World Cup held?\\nContext: The FIFA World Cup was first held in 1930, \u001b[0m\n",
       "\u001b[32mwhen FIFA president Jules Rimet decided to stage an international football tournament.\\nAnswer: 1930'\u001b[0m\n",
       "\u001b[1m)\u001b[0m\n"
      ]
     },
     "metadata": {},
     "output_type": "display_data"
    }
   ],
   "source": [
    "print(output)"
   ]
  },
  {
   "cell_type": "code",
   "execution_count": 52,
   "metadata": {},
   "outputs": [
    {
     "name": "stdout",
     "output_type": "stream",
     "text": [
      "\n",
      "\n",
      "\n",
      "Given the fields `required_data`, produce the fields `json_output`.\n",
      "\n",
      "---\n",
      "\n",
      "Follow the following format.\n",
      "\n",
      "Required Data: ${required_data}\n",
      "Json Output: ${json_output}\n",
      "\n",
      "---\n",
      "\n",
      "Required Data: provide me one eg of Address, Location, Human Name, building name and amount\n",
      "Json Output:\u001b[32m {\n",
      "  \"Address\": \"123 Main Street\",\n",
      "  \"Location\": \"New York City\",\n",
      "  \"Human Name\": \"John Doe\",\n",
      "  \"Building Name\": \"Empire State Building\",\n",
      "  \"Amount\": \"$100\"\n",
      "}\u001b[0m\n",
      "\n",
      "\n",
      "\n",
      "\n",
      "\n",
      "You will be given `question` and you will respond with `answer`.\n",
      "Generating executable Python code that programmatically computes the correct `answer`.\n",
      "After you're done with the computation, make sure the last line in your code evaluates to the correct value for `answer`.\n",
      "\n",
      "---\n",
      "\n",
      "Follow the following format.\n",
      "\n",
      "Question: ${question}\n",
      "Reasoning: Let's think step by step in order to ${produce the generated_code}. We ...\n",
      "Code: python code that answers the question\n",
      "\n",
      "---\n",
      "\n",
      "Question: Hritik has 5 apples. He buys 3 more apples. How many apples does he have now?\n",
      "Reasoning: Let's think step by step in order to\u001b[32m produce the generated_code. We start with the initial number of apples Hritik has, which is 5. Then, we add the number of apples he buys, which is 3.\n",
      "Code:\n",
      "```python\n",
      "initial_apples = 5\n",
      "apples_bought = 3\n",
      "total_apples = initial_apples + apples_bought\n",
      "total_apples\n",
      "```\u001b[0m\n",
      "\n",
      "\n",
      "\n",
      "\n",
      "\n",
      "Given the final code `question`, `final_generated_code`, `code_output`, provide the final `answer`.\n",
      "\n",
      "---\n",
      "\n",
      "Follow the following format.\n",
      "\n",
      "Question: ${question}\n",
      "\n",
      "Code: python code that answers the question\n",
      "\n",
      "Code Output: output of previously-generated python code\n",
      "\n",
      "Reasoning: Let's think step by step in order to ${produce the answer}. We ...\n",
      "\n",
      "Answer: ${answer}\n",
      "\n",
      "---\n",
      "\n",
      "Question: Hritik has 5 apples. He buys 3 more apples. How many apples does he have now?\n",
      "\n",
      "Code:\n",
      "initial_apples = 5\n",
      "apples_bought = 3\n",
      "total_apples = initial_apples + apples_bought\n",
      "total_apples\n",
      "\n",
      "Code Output: 8\n",
      "\n",
      "Reasoning: Let's think step by step in order to\u001b[32m produce the answer. We first define the initial number of apples Hritik has as 5 and the number of apples he buys as 3. By adding these two values together, we can calculate the total number of apples Hritik has now.\n",
      "\n",
      "Answer: Hritik has 8 apples now.\u001b[0m\n",
      "\n",
      "\n",
      "\n",
      "\n",
      "\n",
      "Given the fields `question`, `context`, produce the fields `answer`.\n",
      "\n",
      "---\n",
      "\n",
      "Follow the following format.\n",
      "\n",
      "Question: ${question}\n",
      "Context: ${context}\n",
      "Answer: ${answer}\n",
      "\n",
      "---\n",
      "\n",
      "Question: When was the first fifa world cup held\n",
      "Context:\n",
      "[1] «History of the FIFA World Cup | The FIFA World Cup was first held in 1930, when FIFA president Jules Rimet decided to stage an international football tournament. The inaugural edition, held in 1930, was contested as a final tournament of only thirteen teams invited by the organization. Since then, the World Cup has experienced successive expansions and format remodeling to its current 32-team final tournament preceded by a two-year qualifying process, involving over 200 teams from around the world.»\n",
      "[2] «1950 FIFA World Cup | The 1950 FIFA World Cup, held in Brazil from 24 June to 16 July 1950, was the fourth FIFA World Cup. It was the first World Cup since 1938, the planned 1942 and 1946 competitions having been cancelled owing to World War II. It was won by Uruguay, who had won the inaugural competition in 1930, clinching the cup by beating the hosts Brazil 2–1 in the deciding match of the four-team final group (this was the only tournament not decided by a one-match final). It was also the first tournament where the trophy was referred to as the Jules Rimet Cup, to mark the 25th anniversary of Jules Rimet's presidency of FIFA.»\n",
      "Answer:\u001b[32m Question: When was the first FIFA World Cup held?\n",
      "Context: The FIFA World Cup was first held in 1930, when FIFA president Jules Rimet decided to stage an international football tournament.\n",
      "Answer: 1930\u001b[0m\n",
      "\n",
      "\n",
      "\n"
     ]
    },
    {
     "data": {
      "text/plain": [
       "'\\n\\n\\nGiven the fields `required_data`, produce the fields `json_output`.\\n\\n---\\n\\nFollow the following format.\\n\\nRequired Data: ${required_data}\\nJson Output: ${json_output}\\n\\n---\\n\\nRequired Data: provide me one eg of Address, Location, Human Name, building name and amount\\nJson Output:\\x1b[32m {\\n  \"Address\": \"123 Main Street\",\\n  \"Location\": \"New York City\",\\n  \"Human Name\": \"John Doe\",\\n  \"Building Name\": \"Empire State Building\",\\n  \"Amount\": \"$100\"\\n}\\x1b[0m\\n\\n\\n\\n\\n\\nYou will be given `question` and you will respond with `answer`.\\nGenerating executable Python code that programmatically computes the correct `answer`.\\nAfter you\\'re done with the computation, make sure the last line in your code evaluates to the correct value for `answer`.\\n\\n---\\n\\nFollow the following format.\\n\\nQuestion: ${question}\\nReasoning: Let\\'s think step by step in order to ${produce the generated_code}. We ...\\nCode: python code that answers the question\\n\\n---\\n\\nQuestion: Hritik has 5 apples. He buys 3 more apples. How many apples does he have now?\\nReasoning: Let\\'s think step by step in order to\\x1b[32m produce the generated_code. We start with the initial number of apples Hritik has, which is 5. Then, we add the number of apples he buys, which is 3.\\nCode:\\n```python\\ninitial_apples = 5\\napples_bought = 3\\ntotal_apples = initial_apples + apples_bought\\ntotal_apples\\n```\\x1b[0m\\n\\n\\n\\n\\n\\nGiven the final code `question`, `final_generated_code`, `code_output`, provide the final `answer`.\\n\\n---\\n\\nFollow the following format.\\n\\nQuestion: ${question}\\n\\nCode: python code that answers the question\\n\\nCode Output: output of previously-generated python code\\n\\nReasoning: Let\\'s think step by step in order to ${produce the answer}. We ...\\n\\nAnswer: ${answer}\\n\\n---\\n\\nQuestion: Hritik has 5 apples. He buys 3 more apples. How many apples does he have now?\\n\\nCode:\\ninitial_apples = 5\\napples_bought = 3\\ntotal_apples = initial_apples + apples_bought\\ntotal_apples\\n\\nCode Output: 8\\n\\nReasoning: Let\\'s think step by step in order to\\x1b[32m produce the answer. We first define the initial number of apples Hritik has as 5 and the number of apples he buys as 3. By adding these two values together, we can calculate the total number of apples Hritik has now.\\n\\nAnswer: Hritik has 8 apples now.\\x1b[0m\\n\\n\\n\\n\\n\\nGiven the fields `question`, `context`, produce the fields `answer`.\\n\\n---\\n\\nFollow the following format.\\n\\nQuestion: ${question}\\nContext: ${context}\\nAnswer: ${answer}\\n\\n---\\n\\nQuestion: When was the first fifa world cup held\\nContext:\\n[1] «History of the FIFA World Cup | The FIFA World Cup was first held in 1930, when FIFA president Jules Rimet decided to stage an international football tournament. The inaugural edition, held in 1930, was contested as a final tournament of only thirteen teams invited by the organization. Since then, the World Cup has experienced successive expansions and format remodeling to its current 32-team final tournament preceded by a two-year qualifying process, involving over 200 teams from around the world.»\\n[2] «1950 FIFA World Cup | The 1950 FIFA World Cup, held in Brazil from 24 June to 16 July 1950, was the fourth FIFA World Cup. It was the first World Cup since 1938, the planned 1942 and 1946 competitions having been cancelled owing to World War II. It was won by Uruguay, who had won the inaugural competition in 1930, clinching the cup by beating the hosts Brazil 2–1 in the deciding match of the four-team final group (this was the only tournament not decided by a one-match final). It was also the first tournament where the trophy was referred to as the Jules Rimet Cup, to mark the 25th anniversary of Jules Rimet\\'s presidency of FIFA.»\\nAnswer:\\x1b[32m Question: When was the first FIFA World Cup held?\\nContext: The FIFA World Cup was first held in 1930, when FIFA president Jules Rimet decided to stage an international football tournament.\\nAnswer: 1930\\x1b[0m\\n\\n\\n'"
      ]
     },
     "execution_count": 52,
     "metadata": {},
     "output_type": "execute_result"
    }
   ],
   "source": [
    "turbo.inspect_history(n=10)"
   ]
  },
  {
   "cell_type": "markdown",
   "metadata": {},
   "source": [
    "# DsPY Data Code Execution"
   ]
  },
  {
   "cell_type": "code",
   "execution_count": 53,
   "metadata": {},
   "outputs": [
    {
     "data": {
      "text/plain": [
       "Example({'question': 'where is the moon?', 'answer': 'In Space', 'hint': 'Check Science Book', 'book_name': 'lost in space'}) (input_keys=None)"
      ]
     },
     "execution_count": 53,
     "metadata": {},
     "output_type": "execute_result"
    }
   ],
   "source": [
    "from dspy import Example\n",
    "\n",
    "example1 = Example(question=\"where is the moon?\",\n",
    "                   answer='In Space',\n",
    "                   hint=\"Check Science Book\",\n",
    "                   book_name=\"lost in space\")\n",
    "example1\n"
   ]
  },
  {
   "cell_type": "code",
   "execution_count": 54,
   "metadata": {},
   "outputs": [
    {
     "data": {
      "text/plain": [
       "Example({'question': 'where is the moon?', 'answer': 'In Space', 'hint': 'Check Science Book', 'book_name': 'lost in space'}) (input_keys={'question'})"
      ]
     },
     "execution_count": 54,
     "metadata": {},
     "output_type": "execute_result"
    }
   ],
   "source": [
    "example1.with_inputs(\"question\")"
   ]
  },
  {
   "cell_type": "code",
   "execution_count": 55,
   "metadata": {},
   "outputs": [],
   "source": [
    "tset = [Example(doc='A Very Long theory Paper',\n",
    "                summary='Summary of the paper').with_inputs('doc')]"
   ]
  },
  {
   "cell_type": "code",
   "execution_count": 56,
   "metadata": {},
   "outputs": [
    {
     "data": {
      "text/plain": [
       "Example({'doc': 'A Very Long theory Paper'}) (input_keys={'doc'})"
      ]
     },
     "execution_count": 56,
     "metadata": {},
     "output_type": "execute_result"
    }
   ],
   "source": [
    "tset[0].inputs()\n",
    "\n"
   ]
  },
  {
   "cell_type": "code",
   "execution_count": 57,
   "metadata": {},
   "outputs": [
    {
     "data": {
      "text/plain": [
       "Example({'summary': 'Summary of the paper'}) (input_keys=None)"
      ]
     },
     "execution_count": 57,
     "metadata": {},
     "output_type": "execute_result"
    }
   ],
   "source": [
    "tset[0].labels()"
   ]
  },
  {
   "cell_type": "markdown",
   "metadata": {},
   "source": [
    "# DSPy Metrics\n"
   ]
  },
  {
   "cell_type": "code",
   "execution_count": 67,
   "metadata": {},
   "outputs": [
    {
     "ename": "KeyboardInterrupt",
     "evalue": "",
     "output_type": "error",
     "traceback": [
      "\u001b[0;31m---------------------------------------------------------------------------\u001b[0m",
      "\u001b[0;31mKeyboardInterrupt\u001b[0m                         Traceback (most recent call last)",
      "Cell \u001b[0;32mIn[67], line 4\u001b[0m\n\u001b[1;32m      1\u001b[0m \u001b[38;5;28;01mfrom\u001b[39;00m \u001b[38;5;21;01mdspy\u001b[39;00m\u001b[38;5;21;01m.\u001b[39;00m\u001b[38;5;21;01mdatasets\u001b[39;00m \u001b[38;5;28;01mimport\u001b[39;00m (\n\u001b[1;32m      2\u001b[0m     HotPotQA,\n\u001b[1;32m      3\u001b[0m )\n\u001b[0;32m----> 4\u001b[0m hpqa \u001b[38;5;241m=\u001b[39m \u001b[43mHotPotQA\u001b[49m\u001b[43m(\u001b[49m\u001b[43mtrain_seed\u001b[49m\u001b[38;5;241;43m=\u001b[39;49m\u001b[38;5;241;43m1\u001b[39;49m\u001b[43m,\u001b[49m\u001b[43m \u001b[49m\u001b[43mtrain_size\u001b[49m\u001b[38;5;241;43m=\u001b[39;49m\u001b[38;5;241;43m20\u001b[39;49m\u001b[43m,\u001b[49m\n\u001b[1;32m      5\u001b[0m \u001b[43m                \u001b[49m\u001b[43meval_seed\u001b[49m\u001b[38;5;241;43m=\u001b[39;49m\u001b[38;5;241;43m2\u001b[39;49m\u001b[43m,\u001b[49m\u001b[43m \u001b[49m\u001b[43mdev_size\u001b[49m\u001b[38;5;241;43m=\u001b[39;49m\u001b[38;5;241;43m5\u001b[39;49m\u001b[43m,\u001b[49m\n\u001b[1;32m      6\u001b[0m \u001b[43m                \u001b[49m\u001b[43mtest_size\u001b[49m\u001b[38;5;241;43m=\u001b[39;49m\u001b[38;5;241;43m0\u001b[39;49m\u001b[43m)\u001b[49m  \u001b[38;5;66;03m# Removed timeout argument\u001b[39;00m\n\u001b[1;32m      7\u001b[0m hpqa\n",
      "File \u001b[0;32m~/DSPy/myenv/lib/python3.12/site-packages/dspy/datasets/hotpotqa.py:14\u001b[0m, in \u001b[0;36mHotPotQA.__init__\u001b[0;34m(self, only_hard_examples, keep_details, unofficial_dev, *args, **kwargs)\u001b[0m\n\u001b[1;32m     10\u001b[0m \u001b[38;5;28msuper\u001b[39m()\u001b[38;5;241m.\u001b[39m\u001b[38;5;21m__init__\u001b[39m(\u001b[38;5;241m*\u001b[39margs, \u001b[38;5;241m*\u001b[39m\u001b[38;5;241m*\u001b[39mkwargs)\n\u001b[1;32m     11\u001b[0m \u001b[38;5;28;01massert\u001b[39;00m only_hard_examples, \u001b[38;5;124m\"\u001b[39m\u001b[38;5;124mCare must be taken when adding support for easy examples.\u001b[39m\u001b[38;5;124m\"\u001b[39m \\\n\u001b[1;32m     12\u001b[0m                            \u001b[38;5;124m\"\u001b[39m\u001b[38;5;124mDev must be all hard to match official dev, but training can be flexible.\u001b[39m\u001b[38;5;124m\"\u001b[39m\n\u001b[0;32m---> 14\u001b[0m hf_official_train \u001b[38;5;241m=\u001b[39m \u001b[43mload_dataset\u001b[49m\u001b[43m(\u001b[49m\u001b[38;5;124;43m\"\u001b[39;49m\u001b[38;5;124;43mhotpot_qa\u001b[39;49m\u001b[38;5;124;43m\"\u001b[39;49m\u001b[43m,\u001b[49m\u001b[43m \u001b[49m\u001b[38;5;124;43m'\u001b[39;49m\u001b[38;5;124;43mfullwiki\u001b[39;49m\u001b[38;5;124;43m'\u001b[39;49m\u001b[43m,\u001b[49m\u001b[43m \u001b[49m\u001b[43msplit\u001b[49m\u001b[38;5;241;43m=\u001b[39;49m\u001b[38;5;124;43m'\u001b[39;49m\u001b[38;5;124;43mtrain\u001b[39;49m\u001b[38;5;124;43m'\u001b[39;49m\u001b[43m,\u001b[49m\u001b[43m \u001b[49m\u001b[43mtrust_remote_code\u001b[49m\u001b[38;5;241;43m=\u001b[39;49m\u001b[38;5;28;43;01mTrue\u001b[39;49;00m\u001b[43m)\u001b[49m\n\u001b[1;32m     15\u001b[0m hf_official_dev \u001b[38;5;241m=\u001b[39m load_dataset(\u001b[38;5;124m\"\u001b[39m\u001b[38;5;124mhotpot_qa\u001b[39m\u001b[38;5;124m\"\u001b[39m, \u001b[38;5;124m'\u001b[39m\u001b[38;5;124mfullwiki\u001b[39m\u001b[38;5;124m'\u001b[39m, split\u001b[38;5;241m=\u001b[39m\u001b[38;5;124m'\u001b[39m\u001b[38;5;124mvalidation\u001b[39m\u001b[38;5;124m'\u001b[39m, trust_remote_code\u001b[38;5;241m=\u001b[39m\u001b[38;5;28;01mTrue\u001b[39;00m)\n\u001b[1;32m     17\u001b[0m official_train \u001b[38;5;241m=\u001b[39m []\n",
      "File \u001b[0;32m~/DSPy/myenv/lib/python3.12/site-packages/datasets/load.py:2074\u001b[0m, in \u001b[0;36mload_dataset\u001b[0;34m(path, name, data_dir, data_files, split, cache_dir, features, download_config, download_mode, verification_mode, keep_in_memory, save_infos, revision, token, streaming, num_proc, storage_options, trust_remote_code, **config_kwargs)\u001b[0m\n\u001b[1;32m   2069\u001b[0m verification_mode \u001b[38;5;241m=\u001b[39m VerificationMode(\n\u001b[1;32m   2070\u001b[0m     (verification_mode \u001b[38;5;129;01mor\u001b[39;00m VerificationMode\u001b[38;5;241m.\u001b[39mBASIC_CHECKS) \u001b[38;5;28;01mif\u001b[39;00m \u001b[38;5;129;01mnot\u001b[39;00m save_infos \u001b[38;5;28;01melse\u001b[39;00m VerificationMode\u001b[38;5;241m.\u001b[39mALL_CHECKS\n\u001b[1;32m   2071\u001b[0m )\n\u001b[1;32m   2073\u001b[0m \u001b[38;5;66;03m# Create a dataset builder\u001b[39;00m\n\u001b[0;32m-> 2074\u001b[0m builder_instance \u001b[38;5;241m=\u001b[39m \u001b[43mload_dataset_builder\u001b[49m\u001b[43m(\u001b[49m\n\u001b[1;32m   2075\u001b[0m \u001b[43m    \u001b[49m\u001b[43mpath\u001b[49m\u001b[38;5;241;43m=\u001b[39;49m\u001b[43mpath\u001b[49m\u001b[43m,\u001b[49m\n\u001b[1;32m   2076\u001b[0m \u001b[43m    \u001b[49m\u001b[43mname\u001b[49m\u001b[38;5;241;43m=\u001b[39;49m\u001b[43mname\u001b[49m\u001b[43m,\u001b[49m\n\u001b[1;32m   2077\u001b[0m \u001b[43m    \u001b[49m\u001b[43mdata_dir\u001b[49m\u001b[38;5;241;43m=\u001b[39;49m\u001b[43mdata_dir\u001b[49m\u001b[43m,\u001b[49m\n\u001b[1;32m   2078\u001b[0m \u001b[43m    \u001b[49m\u001b[43mdata_files\u001b[49m\u001b[38;5;241;43m=\u001b[39;49m\u001b[43mdata_files\u001b[49m\u001b[43m,\u001b[49m\n\u001b[1;32m   2079\u001b[0m \u001b[43m    \u001b[49m\u001b[43mcache_dir\u001b[49m\u001b[38;5;241;43m=\u001b[39;49m\u001b[43mcache_dir\u001b[49m\u001b[43m,\u001b[49m\n\u001b[1;32m   2080\u001b[0m \u001b[43m    \u001b[49m\u001b[43mfeatures\u001b[49m\u001b[38;5;241;43m=\u001b[39;49m\u001b[43mfeatures\u001b[49m\u001b[43m,\u001b[49m\n\u001b[1;32m   2081\u001b[0m \u001b[43m    \u001b[49m\u001b[43mdownload_config\u001b[49m\u001b[38;5;241;43m=\u001b[39;49m\u001b[43mdownload_config\u001b[49m\u001b[43m,\u001b[49m\n\u001b[1;32m   2082\u001b[0m \u001b[43m    \u001b[49m\u001b[43mdownload_mode\u001b[49m\u001b[38;5;241;43m=\u001b[39;49m\u001b[43mdownload_mode\u001b[49m\u001b[43m,\u001b[49m\n\u001b[1;32m   2083\u001b[0m \u001b[43m    \u001b[49m\u001b[43mrevision\u001b[49m\u001b[38;5;241;43m=\u001b[39;49m\u001b[43mrevision\u001b[49m\u001b[43m,\u001b[49m\n\u001b[1;32m   2084\u001b[0m \u001b[43m    \u001b[49m\u001b[43mtoken\u001b[49m\u001b[38;5;241;43m=\u001b[39;49m\u001b[43mtoken\u001b[49m\u001b[43m,\u001b[49m\n\u001b[1;32m   2085\u001b[0m \u001b[43m    \u001b[49m\u001b[43mstorage_options\u001b[49m\u001b[38;5;241;43m=\u001b[39;49m\u001b[43mstorage_options\u001b[49m\u001b[43m,\u001b[49m\n\u001b[1;32m   2086\u001b[0m \u001b[43m    \u001b[49m\u001b[43mtrust_remote_code\u001b[49m\u001b[38;5;241;43m=\u001b[39;49m\u001b[43mtrust_remote_code\u001b[49m\u001b[43m,\u001b[49m\n\u001b[1;32m   2087\u001b[0m \u001b[43m    \u001b[49m\u001b[43m_require_default_config_name\u001b[49m\u001b[38;5;241;43m=\u001b[39;49m\u001b[43mname\u001b[49m\u001b[43m \u001b[49m\u001b[38;5;129;43;01mis\u001b[39;49;00m\u001b[43m \u001b[49m\u001b[38;5;28;43;01mNone\u001b[39;49;00m\u001b[43m,\u001b[49m\n\u001b[1;32m   2088\u001b[0m \u001b[43m    \u001b[49m\u001b[38;5;241;43m*\u001b[39;49m\u001b[38;5;241;43m*\u001b[39;49m\u001b[43mconfig_kwargs\u001b[49m\u001b[43m,\u001b[49m\n\u001b[1;32m   2089\u001b[0m \u001b[43m\u001b[49m\u001b[43m)\u001b[49m\n\u001b[1;32m   2091\u001b[0m \u001b[38;5;66;03m# Return iterable dataset in case of streaming\u001b[39;00m\n\u001b[1;32m   2092\u001b[0m \u001b[38;5;28;01mif\u001b[39;00m streaming:\n",
      "File \u001b[0;32m~/DSPy/myenv/lib/python3.12/site-packages/datasets/load.py:1795\u001b[0m, in \u001b[0;36mload_dataset_builder\u001b[0;34m(path, name, data_dir, data_files, cache_dir, features, download_config, download_mode, revision, token, storage_options, trust_remote_code, _require_default_config_name, **config_kwargs)\u001b[0m\n\u001b[1;32m   1793\u001b[0m     download_config \u001b[38;5;241m=\u001b[39m download_config\u001b[38;5;241m.\u001b[39mcopy() \u001b[38;5;28;01mif\u001b[39;00m download_config \u001b[38;5;28;01melse\u001b[39;00m DownloadConfig()\n\u001b[1;32m   1794\u001b[0m     download_config\u001b[38;5;241m.\u001b[39mstorage_options\u001b[38;5;241m.\u001b[39mupdate(storage_options)\n\u001b[0;32m-> 1795\u001b[0m dataset_module \u001b[38;5;241m=\u001b[39m \u001b[43mdataset_module_factory\u001b[49m\u001b[43m(\u001b[49m\n\u001b[1;32m   1796\u001b[0m \u001b[43m    \u001b[49m\u001b[43mpath\u001b[49m\u001b[43m,\u001b[49m\n\u001b[1;32m   1797\u001b[0m \u001b[43m    \u001b[49m\u001b[43mrevision\u001b[49m\u001b[38;5;241;43m=\u001b[39;49m\u001b[43mrevision\u001b[49m\u001b[43m,\u001b[49m\n\u001b[1;32m   1798\u001b[0m \u001b[43m    \u001b[49m\u001b[43mdownload_config\u001b[49m\u001b[38;5;241;43m=\u001b[39;49m\u001b[43mdownload_config\u001b[49m\u001b[43m,\u001b[49m\n\u001b[1;32m   1799\u001b[0m \u001b[43m    \u001b[49m\u001b[43mdownload_mode\u001b[49m\u001b[38;5;241;43m=\u001b[39;49m\u001b[43mdownload_mode\u001b[49m\u001b[43m,\u001b[49m\n\u001b[1;32m   1800\u001b[0m \u001b[43m    \u001b[49m\u001b[43mdata_dir\u001b[49m\u001b[38;5;241;43m=\u001b[39;49m\u001b[43mdata_dir\u001b[49m\u001b[43m,\u001b[49m\n\u001b[1;32m   1801\u001b[0m \u001b[43m    \u001b[49m\u001b[43mdata_files\u001b[49m\u001b[38;5;241;43m=\u001b[39;49m\u001b[43mdata_files\u001b[49m\u001b[43m,\u001b[49m\n\u001b[1;32m   1802\u001b[0m \u001b[43m    \u001b[49m\u001b[43mcache_dir\u001b[49m\u001b[38;5;241;43m=\u001b[39;49m\u001b[43mcache_dir\u001b[49m\u001b[43m,\u001b[49m\n\u001b[1;32m   1803\u001b[0m \u001b[43m    \u001b[49m\u001b[43mtrust_remote_code\u001b[49m\u001b[38;5;241;43m=\u001b[39;49m\u001b[43mtrust_remote_code\u001b[49m\u001b[43m,\u001b[49m\n\u001b[1;32m   1804\u001b[0m \u001b[43m    \u001b[49m\u001b[43m_require_default_config_name\u001b[49m\u001b[38;5;241;43m=\u001b[39;49m\u001b[43m_require_default_config_name\u001b[49m\u001b[43m,\u001b[49m\n\u001b[1;32m   1805\u001b[0m \u001b[43m    \u001b[49m\u001b[43m_require_custom_configs\u001b[49m\u001b[38;5;241;43m=\u001b[39;49m\u001b[38;5;28;43mbool\u001b[39;49m\u001b[43m(\u001b[49m\u001b[43mconfig_kwargs\u001b[49m\u001b[43m)\u001b[49m\u001b[43m,\u001b[49m\n\u001b[1;32m   1806\u001b[0m \u001b[43m\u001b[49m\u001b[43m)\u001b[49m\n\u001b[1;32m   1807\u001b[0m \u001b[38;5;66;03m# Get dataset builder class from the processing script\u001b[39;00m\n\u001b[1;32m   1808\u001b[0m builder_kwargs \u001b[38;5;241m=\u001b[39m dataset_module\u001b[38;5;241m.\u001b[39mbuilder_kwargs\n",
      "File \u001b[0;32m~/DSPy/myenv/lib/python3.12/site-packages/datasets/load.py:1627\u001b[0m, in \u001b[0;36mdataset_module_factory\u001b[0;34m(path, revision, download_config, download_mode, dynamic_modules_path, data_dir, data_files, cache_dir, trust_remote_code, _require_default_config_name, _require_custom_configs, **download_kwargs)\u001b[0m\n\u001b[1;32m   1620\u001b[0m \u001b[38;5;28;01mif\u001b[39;00m config\u001b[38;5;241m.\u001b[39mUSE_PARQUET_EXPORT \u001b[38;5;129;01mand\u001b[39;00m can_load_config_from_parquet_export:\n\u001b[1;32m   1621\u001b[0m     \u001b[38;5;66;03m# If the parquet export is ready (parquet files + info available for the current sha), we can use it instead\u001b[39;00m\n\u001b[1;32m   1622\u001b[0m     \u001b[38;5;66;03m# This fails when the dataset has multiple configs and a default config and\u001b[39;00m\n\u001b[1;32m   1623\u001b[0m     \u001b[38;5;66;03m# the user didn't specify a configuration name (_require_default_config_name=True).\u001b[39;00m\n\u001b[1;32m   1624\u001b[0m     \u001b[38;5;28;01mtry\u001b[39;00m:\n\u001b[1;32m   1625\u001b[0m         \u001b[38;5;28;01mreturn\u001b[39;00m \u001b[43mHubDatasetModuleFactoryWithParquetExport\u001b[49m\u001b[43m(\u001b[49m\n\u001b[1;32m   1626\u001b[0m \u001b[43m            \u001b[49m\u001b[43mpath\u001b[49m\u001b[43m,\u001b[49m\u001b[43m \u001b[49m\u001b[43mdownload_config\u001b[49m\u001b[38;5;241;43m=\u001b[39;49m\u001b[43mdownload_config\u001b[49m\u001b[43m,\u001b[49m\u001b[43m \u001b[49m\u001b[43mrevision\u001b[49m\u001b[38;5;241;43m=\u001b[39;49m\u001b[43mdataset_info\u001b[49m\u001b[38;5;241;43m.\u001b[39;49m\u001b[43msha\u001b[49m\n\u001b[0;32m-> 1627\u001b[0m \u001b[43m        \u001b[49m\u001b[43m)\u001b[49m\u001b[38;5;241;43m.\u001b[39;49m\u001b[43mget_module\u001b[49m\u001b[43m(\u001b[49m\u001b[43m)\u001b[49m\n\u001b[1;32m   1628\u001b[0m     \u001b[38;5;28;01mexcept\u001b[39;00m _dataset_viewer\u001b[38;5;241m.\u001b[39mDatasetViewerError:\n\u001b[1;32m   1629\u001b[0m         \u001b[38;5;28;01mpass\u001b[39;00m\n",
      "File \u001b[0;32m~/DSPy/myenv/lib/python3.12/site-packages/datasets/load.py:1177\u001b[0m, in \u001b[0;36mHubDatasetModuleFactoryWithParquetExport.get_module\u001b[0;34m(self)\u001b[0m\n\u001b[1;32m   1176\u001b[0m \u001b[38;5;28;01mdef\u001b[39;00m \u001b[38;5;21mget_module\u001b[39m(\u001b[38;5;28mself\u001b[39m) \u001b[38;5;241m-\u001b[39m\u001b[38;5;241m>\u001b[39m DatasetModule:\n\u001b[0;32m-> 1177\u001b[0m     exported_parquet_files \u001b[38;5;241m=\u001b[39m \u001b[43m_dataset_viewer\u001b[49m\u001b[38;5;241;43m.\u001b[39;49m\u001b[43mget_exported_parquet_files\u001b[49m\u001b[43m(\u001b[49m\n\u001b[1;32m   1178\u001b[0m \u001b[43m        \u001b[49m\u001b[43mdataset\u001b[49m\u001b[38;5;241;43m=\u001b[39;49m\u001b[38;5;28;43mself\u001b[39;49m\u001b[38;5;241;43m.\u001b[39;49m\u001b[43mname\u001b[49m\u001b[43m,\u001b[49m\u001b[43m \u001b[49m\u001b[43mrevision\u001b[49m\u001b[38;5;241;43m=\u001b[39;49m\u001b[38;5;28;43mself\u001b[39;49m\u001b[38;5;241;43m.\u001b[39;49m\u001b[43mrevision\u001b[49m\u001b[43m,\u001b[49m\u001b[43m \u001b[49m\u001b[43mtoken\u001b[49m\u001b[38;5;241;43m=\u001b[39;49m\u001b[38;5;28;43mself\u001b[39;49m\u001b[38;5;241;43m.\u001b[39;49m\u001b[43mdownload_config\u001b[49m\u001b[38;5;241;43m.\u001b[39;49m\u001b[43mtoken\u001b[49m\n\u001b[1;32m   1179\u001b[0m \u001b[43m    \u001b[49m\u001b[43m)\u001b[49m\n\u001b[1;32m   1180\u001b[0m     exported_dataset_infos \u001b[38;5;241m=\u001b[39m _dataset_viewer\u001b[38;5;241m.\u001b[39mget_exported_dataset_infos(\n\u001b[1;32m   1181\u001b[0m         dataset\u001b[38;5;241m=\u001b[39m\u001b[38;5;28mself\u001b[39m\u001b[38;5;241m.\u001b[39mname, revision\u001b[38;5;241m=\u001b[39m\u001b[38;5;28mself\u001b[39m\u001b[38;5;241m.\u001b[39mrevision, token\u001b[38;5;241m=\u001b[39m\u001b[38;5;28mself\u001b[39m\u001b[38;5;241m.\u001b[39mdownload_config\u001b[38;5;241m.\u001b[39mtoken\n\u001b[1;32m   1182\u001b[0m     )\n\u001b[1;32m   1183\u001b[0m     dataset_infos \u001b[38;5;241m=\u001b[39m DatasetInfosDict(\n\u001b[1;32m   1184\u001b[0m         {\n\u001b[1;32m   1185\u001b[0m             config_name: DatasetInfo\u001b[38;5;241m.\u001b[39mfrom_dict(exported_dataset_infos[config_name])\n\u001b[1;32m   1186\u001b[0m             \u001b[38;5;28;01mfor\u001b[39;00m config_name \u001b[38;5;129;01min\u001b[39;00m exported_dataset_infos\n\u001b[1;32m   1187\u001b[0m         }\n\u001b[1;32m   1188\u001b[0m     )\n",
      "File \u001b[0;32m~/DSPy/myenv/lib/python3.12/site-packages/datasets/utils/_dataset_viewer.py:33\u001b[0m, in \u001b[0;36mget_exported_parquet_files\u001b[0;34m(dataset, revision, token)\u001b[0m\n\u001b[1;32m     31\u001b[0m dataset_viewer_parquet_url \u001b[38;5;241m=\u001b[39m config\u001b[38;5;241m.\u001b[39mHF_ENDPOINT\u001b[38;5;241m.\u001b[39mreplace(\u001b[38;5;124m\"\u001b[39m\u001b[38;5;124m://\u001b[39m\u001b[38;5;124m\"\u001b[39m, \u001b[38;5;124m\"\u001b[39m\u001b[38;5;124m://datasets-server.\u001b[39m\u001b[38;5;124m\"\u001b[39m) \u001b[38;5;241m+\u001b[39m \u001b[38;5;124m\"\u001b[39m\u001b[38;5;124m/parquet?dataset=\u001b[39m\u001b[38;5;124m\"\u001b[39m\n\u001b[1;32m     32\u001b[0m \u001b[38;5;28;01mtry\u001b[39;00m:\n\u001b[0;32m---> 33\u001b[0m     parquet_data_files_response \u001b[38;5;241m=\u001b[39m \u001b[43mget_session\u001b[49m\u001b[43m(\u001b[49m\u001b[43m)\u001b[49m\u001b[38;5;241;43m.\u001b[39;49m\u001b[43mget\u001b[49m\u001b[43m(\u001b[49m\n\u001b[1;32m     34\u001b[0m \u001b[43m        \u001b[49m\u001b[43murl\u001b[49m\u001b[38;5;241;43m=\u001b[39;49m\u001b[43mdataset_viewer_parquet_url\u001b[49m\u001b[43m \u001b[49m\u001b[38;5;241;43m+\u001b[39;49m\u001b[43m \u001b[49m\u001b[43mdataset\u001b[49m\u001b[43m,\u001b[49m\n\u001b[1;32m     35\u001b[0m \u001b[43m        \u001b[49m\u001b[43mheaders\u001b[49m\u001b[38;5;241;43m=\u001b[39;49m\u001b[43mget_authentication_headers_for_url\u001b[49m\u001b[43m(\u001b[49m\u001b[43mconfig\u001b[49m\u001b[38;5;241;43m.\u001b[39;49m\u001b[43mHF_ENDPOINT\u001b[49m\u001b[43m \u001b[49m\u001b[38;5;241;43m+\u001b[39;49m\u001b[43m \u001b[49m\u001b[38;5;124;43mf\u001b[39;49m\u001b[38;5;124;43m\"\u001b[39;49m\u001b[38;5;124;43mdatasets/\u001b[39;49m\u001b[38;5;132;43;01m{\u001b[39;49;00m\u001b[43mdataset\u001b[49m\u001b[38;5;132;43;01m}\u001b[39;49;00m\u001b[38;5;124;43m\"\u001b[39;49m\u001b[43m,\u001b[49m\u001b[43m \u001b[49m\u001b[43mtoken\u001b[49m\u001b[38;5;241;43m=\u001b[39;49m\u001b[43mtoken\u001b[49m\u001b[43m)\u001b[49m\u001b[43m,\u001b[49m\n\u001b[1;32m     36\u001b[0m \u001b[43m        \u001b[49m\u001b[43mtimeout\u001b[49m\u001b[38;5;241;43m=\u001b[39;49m\u001b[38;5;241;43m100.0\u001b[39;49m\u001b[43m,\u001b[49m\n\u001b[1;32m     37\u001b[0m \u001b[43m    \u001b[49m\u001b[43m)\u001b[49m\n\u001b[1;32m     38\u001b[0m     parquet_data_files_response\u001b[38;5;241m.\u001b[39mraise_for_status()\n\u001b[1;32m     39\u001b[0m     \u001b[38;5;28;01mif\u001b[39;00m \u001b[38;5;124m\"\u001b[39m\u001b[38;5;124mX-Revision\u001b[39m\u001b[38;5;124m\"\u001b[39m \u001b[38;5;129;01min\u001b[39;00m parquet_data_files_response\u001b[38;5;241m.\u001b[39mheaders:\n",
      "File \u001b[0;32m~/DSPy/myenv/lib/python3.12/site-packages/requests/sessions.py:602\u001b[0m, in \u001b[0;36mSession.get\u001b[0;34m(self, url, **kwargs)\u001b[0m\n\u001b[1;32m    594\u001b[0m \u001b[38;5;250m\u001b[39m\u001b[38;5;124mr\u001b[39m\u001b[38;5;124;03m\"\"\"Sends a GET request. Returns :class:`Response` object.\u001b[39;00m\n\u001b[1;32m    595\u001b[0m \n\u001b[1;32m    596\u001b[0m \u001b[38;5;124;03m:param url: URL for the new :class:`Request` object.\u001b[39;00m\n\u001b[1;32m    597\u001b[0m \u001b[38;5;124;03m:param \\*\\*kwargs: Optional arguments that ``request`` takes.\u001b[39;00m\n\u001b[1;32m    598\u001b[0m \u001b[38;5;124;03m:rtype: requests.Response\u001b[39;00m\n\u001b[1;32m    599\u001b[0m \u001b[38;5;124;03m\"\"\"\u001b[39;00m\n\u001b[1;32m    601\u001b[0m kwargs\u001b[38;5;241m.\u001b[39msetdefault(\u001b[38;5;124m\"\u001b[39m\u001b[38;5;124mallow_redirects\u001b[39m\u001b[38;5;124m\"\u001b[39m, \u001b[38;5;28;01mTrue\u001b[39;00m)\n\u001b[0;32m--> 602\u001b[0m \u001b[38;5;28;01mreturn\u001b[39;00m \u001b[38;5;28;43mself\u001b[39;49m\u001b[38;5;241;43m.\u001b[39;49m\u001b[43mrequest\u001b[49m\u001b[43m(\u001b[49m\u001b[38;5;124;43m\"\u001b[39;49m\u001b[38;5;124;43mGET\u001b[39;49m\u001b[38;5;124;43m\"\u001b[39;49m\u001b[43m,\u001b[49m\u001b[43m \u001b[49m\u001b[43murl\u001b[49m\u001b[43m,\u001b[49m\u001b[43m \u001b[49m\u001b[38;5;241;43m*\u001b[39;49m\u001b[38;5;241;43m*\u001b[39;49m\u001b[43mkwargs\u001b[49m\u001b[43m)\u001b[49m\n",
      "File \u001b[0;32m~/DSPy/myenv/lib/python3.12/site-packages/requests/sessions.py:589\u001b[0m, in \u001b[0;36mSession.request\u001b[0;34m(self, method, url, params, data, headers, cookies, files, auth, timeout, allow_redirects, proxies, hooks, stream, verify, cert, json)\u001b[0m\n\u001b[1;32m    584\u001b[0m send_kwargs \u001b[38;5;241m=\u001b[39m {\n\u001b[1;32m    585\u001b[0m     \u001b[38;5;124m\"\u001b[39m\u001b[38;5;124mtimeout\u001b[39m\u001b[38;5;124m\"\u001b[39m: timeout,\n\u001b[1;32m    586\u001b[0m     \u001b[38;5;124m\"\u001b[39m\u001b[38;5;124mallow_redirects\u001b[39m\u001b[38;5;124m\"\u001b[39m: allow_redirects,\n\u001b[1;32m    587\u001b[0m }\n\u001b[1;32m    588\u001b[0m send_kwargs\u001b[38;5;241m.\u001b[39mupdate(settings)\n\u001b[0;32m--> 589\u001b[0m resp \u001b[38;5;241m=\u001b[39m \u001b[38;5;28;43mself\u001b[39;49m\u001b[38;5;241;43m.\u001b[39;49m\u001b[43msend\u001b[49m\u001b[43m(\u001b[49m\u001b[43mprep\u001b[49m\u001b[43m,\u001b[49m\u001b[43m \u001b[49m\u001b[38;5;241;43m*\u001b[39;49m\u001b[38;5;241;43m*\u001b[39;49m\u001b[43msend_kwargs\u001b[49m\u001b[43m)\u001b[49m\n\u001b[1;32m    591\u001b[0m \u001b[38;5;28;01mreturn\u001b[39;00m resp\n",
      "File \u001b[0;32m~/DSPy/myenv/lib/python3.12/site-packages/requests/sessions.py:703\u001b[0m, in \u001b[0;36mSession.send\u001b[0;34m(self, request, **kwargs)\u001b[0m\n\u001b[1;32m    700\u001b[0m start \u001b[38;5;241m=\u001b[39m preferred_clock()\n\u001b[1;32m    702\u001b[0m \u001b[38;5;66;03m# Send the request\u001b[39;00m\n\u001b[0;32m--> 703\u001b[0m r \u001b[38;5;241m=\u001b[39m \u001b[43madapter\u001b[49m\u001b[38;5;241;43m.\u001b[39;49m\u001b[43msend\u001b[49m\u001b[43m(\u001b[49m\u001b[43mrequest\u001b[49m\u001b[43m,\u001b[49m\u001b[43m \u001b[49m\u001b[38;5;241;43m*\u001b[39;49m\u001b[38;5;241;43m*\u001b[39;49m\u001b[43mkwargs\u001b[49m\u001b[43m)\u001b[49m\n\u001b[1;32m    705\u001b[0m \u001b[38;5;66;03m# Total elapsed time of the request (approximately)\u001b[39;00m\n\u001b[1;32m    706\u001b[0m elapsed \u001b[38;5;241m=\u001b[39m preferred_clock() \u001b[38;5;241m-\u001b[39m start\n",
      "File \u001b[0;32m~/DSPy/myenv/lib/python3.12/site-packages/huggingface_hub/utils/_http.py:93\u001b[0m, in \u001b[0;36mUniqueRequestIdAdapter.send\u001b[0;34m(self, request, *args, **kwargs)\u001b[0m\n\u001b[1;32m     91\u001b[0m \u001b[38;5;250m\u001b[39m\u001b[38;5;124;03m\"\"\"Catch any RequestException to append request id to the error message for debugging.\"\"\"\u001b[39;00m\n\u001b[1;32m     92\u001b[0m \u001b[38;5;28;01mtry\u001b[39;00m:\n\u001b[0;32m---> 93\u001b[0m     \u001b[38;5;28;01mreturn\u001b[39;00m \u001b[38;5;28;43msuper\u001b[39;49m\u001b[43m(\u001b[49m\u001b[43m)\u001b[49m\u001b[38;5;241;43m.\u001b[39;49m\u001b[43msend\u001b[49m\u001b[43m(\u001b[49m\u001b[43mrequest\u001b[49m\u001b[43m,\u001b[49m\u001b[43m \u001b[49m\u001b[38;5;241;43m*\u001b[39;49m\u001b[43margs\u001b[49m\u001b[43m,\u001b[49m\u001b[43m \u001b[49m\u001b[38;5;241;43m*\u001b[39;49m\u001b[38;5;241;43m*\u001b[39;49m\u001b[43mkwargs\u001b[49m\u001b[43m)\u001b[49m\n\u001b[1;32m     94\u001b[0m \u001b[38;5;28;01mexcept\u001b[39;00m requests\u001b[38;5;241m.\u001b[39mRequestException \u001b[38;5;28;01mas\u001b[39;00m e:\n\u001b[1;32m     95\u001b[0m     request_id \u001b[38;5;241m=\u001b[39m request\u001b[38;5;241m.\u001b[39mheaders\u001b[38;5;241m.\u001b[39mget(X_AMZN_TRACE_ID)\n",
      "File \u001b[0;32m~/DSPy/myenv/lib/python3.12/site-packages/requests/adapters.py:667\u001b[0m, in \u001b[0;36mHTTPAdapter.send\u001b[0;34m(self, request, stream, timeout, verify, cert, proxies)\u001b[0m\n\u001b[1;32m    664\u001b[0m     timeout \u001b[38;5;241m=\u001b[39m TimeoutSauce(connect\u001b[38;5;241m=\u001b[39mtimeout, read\u001b[38;5;241m=\u001b[39mtimeout)\n\u001b[1;32m    666\u001b[0m \u001b[38;5;28;01mtry\u001b[39;00m:\n\u001b[0;32m--> 667\u001b[0m     resp \u001b[38;5;241m=\u001b[39m \u001b[43mconn\u001b[49m\u001b[38;5;241;43m.\u001b[39;49m\u001b[43murlopen\u001b[49m\u001b[43m(\u001b[49m\n\u001b[1;32m    668\u001b[0m \u001b[43m        \u001b[49m\u001b[43mmethod\u001b[49m\u001b[38;5;241;43m=\u001b[39;49m\u001b[43mrequest\u001b[49m\u001b[38;5;241;43m.\u001b[39;49m\u001b[43mmethod\u001b[49m\u001b[43m,\u001b[49m\n\u001b[1;32m    669\u001b[0m \u001b[43m        \u001b[49m\u001b[43murl\u001b[49m\u001b[38;5;241;43m=\u001b[39;49m\u001b[43murl\u001b[49m\u001b[43m,\u001b[49m\n\u001b[1;32m    670\u001b[0m \u001b[43m        \u001b[49m\u001b[43mbody\u001b[49m\u001b[38;5;241;43m=\u001b[39;49m\u001b[43mrequest\u001b[49m\u001b[38;5;241;43m.\u001b[39;49m\u001b[43mbody\u001b[49m\u001b[43m,\u001b[49m\n\u001b[1;32m    671\u001b[0m \u001b[43m        \u001b[49m\u001b[43mheaders\u001b[49m\u001b[38;5;241;43m=\u001b[39;49m\u001b[43mrequest\u001b[49m\u001b[38;5;241;43m.\u001b[39;49m\u001b[43mheaders\u001b[49m\u001b[43m,\u001b[49m\n\u001b[1;32m    672\u001b[0m \u001b[43m        \u001b[49m\u001b[43mredirect\u001b[49m\u001b[38;5;241;43m=\u001b[39;49m\u001b[38;5;28;43;01mFalse\u001b[39;49;00m\u001b[43m,\u001b[49m\n\u001b[1;32m    673\u001b[0m \u001b[43m        \u001b[49m\u001b[43massert_same_host\u001b[49m\u001b[38;5;241;43m=\u001b[39;49m\u001b[38;5;28;43;01mFalse\u001b[39;49;00m\u001b[43m,\u001b[49m\n\u001b[1;32m    674\u001b[0m \u001b[43m        \u001b[49m\u001b[43mpreload_content\u001b[49m\u001b[38;5;241;43m=\u001b[39;49m\u001b[38;5;28;43;01mFalse\u001b[39;49;00m\u001b[43m,\u001b[49m\n\u001b[1;32m    675\u001b[0m \u001b[43m        \u001b[49m\u001b[43mdecode_content\u001b[49m\u001b[38;5;241;43m=\u001b[39;49m\u001b[38;5;28;43;01mFalse\u001b[39;49;00m\u001b[43m,\u001b[49m\n\u001b[1;32m    676\u001b[0m \u001b[43m        \u001b[49m\u001b[43mretries\u001b[49m\u001b[38;5;241;43m=\u001b[39;49m\u001b[38;5;28;43mself\u001b[39;49m\u001b[38;5;241;43m.\u001b[39;49m\u001b[43mmax_retries\u001b[49m\u001b[43m,\u001b[49m\n\u001b[1;32m    677\u001b[0m \u001b[43m        \u001b[49m\u001b[43mtimeout\u001b[49m\u001b[38;5;241;43m=\u001b[39;49m\u001b[43mtimeout\u001b[49m\u001b[43m,\u001b[49m\n\u001b[1;32m    678\u001b[0m \u001b[43m        \u001b[49m\u001b[43mchunked\u001b[49m\u001b[38;5;241;43m=\u001b[39;49m\u001b[43mchunked\u001b[49m\u001b[43m,\u001b[49m\n\u001b[1;32m    679\u001b[0m \u001b[43m    \u001b[49m\u001b[43m)\u001b[49m\n\u001b[1;32m    681\u001b[0m \u001b[38;5;28;01mexcept\u001b[39;00m (ProtocolError, \u001b[38;5;167;01mOSError\u001b[39;00m) \u001b[38;5;28;01mas\u001b[39;00m err:\n\u001b[1;32m    682\u001b[0m     \u001b[38;5;28;01mraise\u001b[39;00m \u001b[38;5;167;01mConnectionError\u001b[39;00m(err, request\u001b[38;5;241m=\u001b[39mrequest)\n",
      "File \u001b[0;32m~/DSPy/myenv/lib/python3.12/site-packages/urllib3/connectionpool.py:789\u001b[0m, in \u001b[0;36mHTTPConnectionPool.urlopen\u001b[0;34m(self, method, url, body, headers, retries, redirect, assert_same_host, timeout, pool_timeout, release_conn, chunked, body_pos, preload_content, decode_content, **response_kw)\u001b[0m\n\u001b[1;32m    786\u001b[0m response_conn \u001b[38;5;241m=\u001b[39m conn \u001b[38;5;28;01mif\u001b[39;00m \u001b[38;5;129;01mnot\u001b[39;00m release_conn \u001b[38;5;28;01melse\u001b[39;00m \u001b[38;5;28;01mNone\u001b[39;00m\n\u001b[1;32m    788\u001b[0m \u001b[38;5;66;03m# Make the request on the HTTPConnection object\u001b[39;00m\n\u001b[0;32m--> 789\u001b[0m response \u001b[38;5;241m=\u001b[39m \u001b[38;5;28;43mself\u001b[39;49m\u001b[38;5;241;43m.\u001b[39;49m\u001b[43m_make_request\u001b[49m\u001b[43m(\u001b[49m\n\u001b[1;32m    790\u001b[0m \u001b[43m    \u001b[49m\u001b[43mconn\u001b[49m\u001b[43m,\u001b[49m\n\u001b[1;32m    791\u001b[0m \u001b[43m    \u001b[49m\u001b[43mmethod\u001b[49m\u001b[43m,\u001b[49m\n\u001b[1;32m    792\u001b[0m \u001b[43m    \u001b[49m\u001b[43murl\u001b[49m\u001b[43m,\u001b[49m\n\u001b[1;32m    793\u001b[0m \u001b[43m    \u001b[49m\u001b[43mtimeout\u001b[49m\u001b[38;5;241;43m=\u001b[39;49m\u001b[43mtimeout_obj\u001b[49m\u001b[43m,\u001b[49m\n\u001b[1;32m    794\u001b[0m \u001b[43m    \u001b[49m\u001b[43mbody\u001b[49m\u001b[38;5;241;43m=\u001b[39;49m\u001b[43mbody\u001b[49m\u001b[43m,\u001b[49m\n\u001b[1;32m    795\u001b[0m \u001b[43m    \u001b[49m\u001b[43mheaders\u001b[49m\u001b[38;5;241;43m=\u001b[39;49m\u001b[43mheaders\u001b[49m\u001b[43m,\u001b[49m\n\u001b[1;32m    796\u001b[0m \u001b[43m    \u001b[49m\u001b[43mchunked\u001b[49m\u001b[38;5;241;43m=\u001b[39;49m\u001b[43mchunked\u001b[49m\u001b[43m,\u001b[49m\n\u001b[1;32m    797\u001b[0m \u001b[43m    \u001b[49m\u001b[43mretries\u001b[49m\u001b[38;5;241;43m=\u001b[39;49m\u001b[43mretries\u001b[49m\u001b[43m,\u001b[49m\n\u001b[1;32m    798\u001b[0m \u001b[43m    \u001b[49m\u001b[43mresponse_conn\u001b[49m\u001b[38;5;241;43m=\u001b[39;49m\u001b[43mresponse_conn\u001b[49m\u001b[43m,\u001b[49m\n\u001b[1;32m    799\u001b[0m \u001b[43m    \u001b[49m\u001b[43mpreload_content\u001b[49m\u001b[38;5;241;43m=\u001b[39;49m\u001b[43mpreload_content\u001b[49m\u001b[43m,\u001b[49m\n\u001b[1;32m    800\u001b[0m \u001b[43m    \u001b[49m\u001b[43mdecode_content\u001b[49m\u001b[38;5;241;43m=\u001b[39;49m\u001b[43mdecode_content\u001b[49m\u001b[43m,\u001b[49m\n\u001b[1;32m    801\u001b[0m \u001b[43m    \u001b[49m\u001b[38;5;241;43m*\u001b[39;49m\u001b[38;5;241;43m*\u001b[39;49m\u001b[43mresponse_kw\u001b[49m\u001b[43m,\u001b[49m\n\u001b[1;32m    802\u001b[0m \u001b[43m\u001b[49m\u001b[43m)\u001b[49m\n\u001b[1;32m    804\u001b[0m \u001b[38;5;66;03m# Everything went great!\u001b[39;00m\n\u001b[1;32m    805\u001b[0m clean_exit \u001b[38;5;241m=\u001b[39m \u001b[38;5;28;01mTrue\u001b[39;00m\n",
      "File \u001b[0;32m~/DSPy/myenv/lib/python3.12/site-packages/urllib3/connectionpool.py:466\u001b[0m, in \u001b[0;36mHTTPConnectionPool._make_request\u001b[0;34m(self, conn, method, url, body, headers, retries, timeout, chunked, response_conn, preload_content, decode_content, enforce_content_length)\u001b[0m\n\u001b[1;32m    463\u001b[0m \u001b[38;5;28;01mtry\u001b[39;00m:\n\u001b[1;32m    464\u001b[0m     \u001b[38;5;66;03m# Trigger any extra validation we need to do.\u001b[39;00m\n\u001b[1;32m    465\u001b[0m     \u001b[38;5;28;01mtry\u001b[39;00m:\n\u001b[0;32m--> 466\u001b[0m         \u001b[38;5;28;43mself\u001b[39;49m\u001b[38;5;241;43m.\u001b[39;49m\u001b[43m_validate_conn\u001b[49m\u001b[43m(\u001b[49m\u001b[43mconn\u001b[49m\u001b[43m)\u001b[49m\n\u001b[1;32m    467\u001b[0m     \u001b[38;5;28;01mexcept\u001b[39;00m (SocketTimeout, BaseSSLError) \u001b[38;5;28;01mas\u001b[39;00m e:\n\u001b[1;32m    468\u001b[0m         \u001b[38;5;28mself\u001b[39m\u001b[38;5;241m.\u001b[39m_raise_timeout(err\u001b[38;5;241m=\u001b[39me, url\u001b[38;5;241m=\u001b[39murl, timeout_value\u001b[38;5;241m=\u001b[39mconn\u001b[38;5;241m.\u001b[39mtimeout)\n",
      "File \u001b[0;32m~/DSPy/myenv/lib/python3.12/site-packages/urllib3/connectionpool.py:1095\u001b[0m, in \u001b[0;36mHTTPSConnectionPool._validate_conn\u001b[0;34m(self, conn)\u001b[0m\n\u001b[1;32m   1093\u001b[0m \u001b[38;5;66;03m# Force connect early to allow us to validate the connection.\u001b[39;00m\n\u001b[1;32m   1094\u001b[0m \u001b[38;5;28;01mif\u001b[39;00m conn\u001b[38;5;241m.\u001b[39mis_closed:\n\u001b[0;32m-> 1095\u001b[0m     \u001b[43mconn\u001b[49m\u001b[38;5;241;43m.\u001b[39;49m\u001b[43mconnect\u001b[49m\u001b[43m(\u001b[49m\u001b[43m)\u001b[49m\n\u001b[1;32m   1097\u001b[0m \u001b[38;5;66;03m# TODO revise this, see https://github.com/urllib3/urllib3/issues/2791\u001b[39;00m\n\u001b[1;32m   1098\u001b[0m \u001b[38;5;28;01mif\u001b[39;00m \u001b[38;5;129;01mnot\u001b[39;00m conn\u001b[38;5;241m.\u001b[39mis_verified \u001b[38;5;129;01mand\u001b[39;00m \u001b[38;5;129;01mnot\u001b[39;00m conn\u001b[38;5;241m.\u001b[39mproxy_is_verified:\n",
      "File \u001b[0;32m~/DSPy/myenv/lib/python3.12/site-packages/urllib3/connection.py:693\u001b[0m, in \u001b[0;36mHTTPSConnection.connect\u001b[0;34m(self)\u001b[0m\n\u001b[1;32m    691\u001b[0m \u001b[38;5;28;01mtry\u001b[39;00m:\n\u001b[1;32m    692\u001b[0m     sock: socket\u001b[38;5;241m.\u001b[39msocket \u001b[38;5;241m|\u001b[39m ssl\u001b[38;5;241m.\u001b[39mSSLSocket\n\u001b[0;32m--> 693\u001b[0m     \u001b[38;5;28mself\u001b[39m\u001b[38;5;241m.\u001b[39msock \u001b[38;5;241m=\u001b[39m sock \u001b[38;5;241m=\u001b[39m \u001b[38;5;28;43mself\u001b[39;49m\u001b[38;5;241;43m.\u001b[39;49m\u001b[43m_new_conn\u001b[49m\u001b[43m(\u001b[49m\u001b[43m)\u001b[49m\n\u001b[1;32m    694\u001b[0m     server_hostname: \u001b[38;5;28mstr\u001b[39m \u001b[38;5;241m=\u001b[39m \u001b[38;5;28mself\u001b[39m\u001b[38;5;241m.\u001b[39mhost\n\u001b[1;32m    695\u001b[0m     tls_in_tls \u001b[38;5;241m=\u001b[39m \u001b[38;5;28;01mFalse\u001b[39;00m\n",
      "File \u001b[0;32m~/DSPy/myenv/lib/python3.12/site-packages/urllib3/connection.py:199\u001b[0m, in \u001b[0;36mHTTPConnection._new_conn\u001b[0;34m(self)\u001b[0m\n\u001b[1;32m    194\u001b[0m \u001b[38;5;250m\u001b[39m\u001b[38;5;124;03m\"\"\"Establish a socket connection and set nodelay settings on it.\u001b[39;00m\n\u001b[1;32m    195\u001b[0m \n\u001b[1;32m    196\u001b[0m \u001b[38;5;124;03m:return: New socket connection.\u001b[39;00m\n\u001b[1;32m    197\u001b[0m \u001b[38;5;124;03m\"\"\"\u001b[39;00m\n\u001b[1;32m    198\u001b[0m \u001b[38;5;28;01mtry\u001b[39;00m:\n\u001b[0;32m--> 199\u001b[0m     sock \u001b[38;5;241m=\u001b[39m \u001b[43mconnection\u001b[49m\u001b[38;5;241;43m.\u001b[39;49m\u001b[43mcreate_connection\u001b[49m\u001b[43m(\u001b[49m\n\u001b[1;32m    200\u001b[0m \u001b[43m        \u001b[49m\u001b[43m(\u001b[49m\u001b[38;5;28;43mself\u001b[39;49m\u001b[38;5;241;43m.\u001b[39;49m\u001b[43m_dns_host\u001b[49m\u001b[43m,\u001b[49m\u001b[43m \u001b[49m\u001b[38;5;28;43mself\u001b[39;49m\u001b[38;5;241;43m.\u001b[39;49m\u001b[43mport\u001b[49m\u001b[43m)\u001b[49m\u001b[43m,\u001b[49m\n\u001b[1;32m    201\u001b[0m \u001b[43m        \u001b[49m\u001b[38;5;28;43mself\u001b[39;49m\u001b[38;5;241;43m.\u001b[39;49m\u001b[43mtimeout\u001b[49m\u001b[43m,\u001b[49m\n\u001b[1;32m    202\u001b[0m \u001b[43m        \u001b[49m\u001b[43msource_address\u001b[49m\u001b[38;5;241;43m=\u001b[39;49m\u001b[38;5;28;43mself\u001b[39;49m\u001b[38;5;241;43m.\u001b[39;49m\u001b[43msource_address\u001b[49m\u001b[43m,\u001b[49m\n\u001b[1;32m    203\u001b[0m \u001b[43m        \u001b[49m\u001b[43msocket_options\u001b[49m\u001b[38;5;241;43m=\u001b[39;49m\u001b[38;5;28;43mself\u001b[39;49m\u001b[38;5;241;43m.\u001b[39;49m\u001b[43msocket_options\u001b[49m\u001b[43m,\u001b[49m\n\u001b[1;32m    204\u001b[0m \u001b[43m    \u001b[49m\u001b[43m)\u001b[49m\n\u001b[1;32m    205\u001b[0m \u001b[38;5;28;01mexcept\u001b[39;00m socket\u001b[38;5;241m.\u001b[39mgaierror \u001b[38;5;28;01mas\u001b[39;00m e:\n\u001b[1;32m    206\u001b[0m     \u001b[38;5;28;01mraise\u001b[39;00m NameResolutionError(\u001b[38;5;28mself\u001b[39m\u001b[38;5;241m.\u001b[39mhost, \u001b[38;5;28mself\u001b[39m, e) \u001b[38;5;28;01mfrom\u001b[39;00m \u001b[38;5;21;01me\u001b[39;00m\n",
      "File \u001b[0;32m~/DSPy/myenv/lib/python3.12/site-packages/urllib3/util/connection.py:60\u001b[0m, in \u001b[0;36mcreate_connection\u001b[0;34m(address, timeout, source_address, socket_options)\u001b[0m\n\u001b[1;32m     57\u001b[0m \u001b[38;5;28;01mexcept\u001b[39;00m \u001b[38;5;167;01mUnicodeError\u001b[39;00m:\n\u001b[1;32m     58\u001b[0m     \u001b[38;5;28;01mraise\u001b[39;00m LocationParseError(\u001b[38;5;124mf\u001b[39m\u001b[38;5;124m\"\u001b[39m\u001b[38;5;124m'\u001b[39m\u001b[38;5;132;01m{\u001b[39;00mhost\u001b[38;5;132;01m}\u001b[39;00m\u001b[38;5;124m'\u001b[39m\u001b[38;5;124m, label empty or too long\u001b[39m\u001b[38;5;124m\"\u001b[39m) \u001b[38;5;28;01mfrom\u001b[39;00m \u001b[38;5;28;01mNone\u001b[39;00m\n\u001b[0;32m---> 60\u001b[0m \u001b[38;5;28;01mfor\u001b[39;00m res \u001b[38;5;129;01min\u001b[39;00m \u001b[43msocket\u001b[49m\u001b[38;5;241;43m.\u001b[39;49m\u001b[43mgetaddrinfo\u001b[49m\u001b[43m(\u001b[49m\u001b[43mhost\u001b[49m\u001b[43m,\u001b[49m\u001b[43m \u001b[49m\u001b[43mport\u001b[49m\u001b[43m,\u001b[49m\u001b[43m \u001b[49m\u001b[43mfamily\u001b[49m\u001b[43m,\u001b[49m\u001b[43m \u001b[49m\u001b[43msocket\u001b[49m\u001b[38;5;241;43m.\u001b[39;49m\u001b[43mSOCK_STREAM\u001b[49m\u001b[43m)\u001b[49m:\n\u001b[1;32m     61\u001b[0m     af, socktype, proto, canonname, sa \u001b[38;5;241m=\u001b[39m res\n\u001b[1;32m     62\u001b[0m     sock \u001b[38;5;241m=\u001b[39m \u001b[38;5;28;01mNone\u001b[39;00m\n",
      "File \u001b[0;32m/Library/Frameworks/Python.framework/Versions/3.12/lib/python3.12/socket.py:976\u001b[0m, in \u001b[0;36mgetaddrinfo\u001b[0;34m(host, port, family, type, proto, flags)\u001b[0m\n\u001b[1;32m    973\u001b[0m \u001b[38;5;66;03m# We override this function since we want to translate the numeric family\u001b[39;00m\n\u001b[1;32m    974\u001b[0m \u001b[38;5;66;03m# and socket type values to enum constants.\u001b[39;00m\n\u001b[1;32m    975\u001b[0m addrlist \u001b[38;5;241m=\u001b[39m []\n\u001b[0;32m--> 976\u001b[0m \u001b[38;5;28;01mfor\u001b[39;00m res \u001b[38;5;129;01min\u001b[39;00m \u001b[43m_socket\u001b[49m\u001b[38;5;241;43m.\u001b[39;49m\u001b[43mgetaddrinfo\u001b[49m\u001b[43m(\u001b[49m\u001b[43mhost\u001b[49m\u001b[43m,\u001b[49m\u001b[43m \u001b[49m\u001b[43mport\u001b[49m\u001b[43m,\u001b[49m\u001b[43m \u001b[49m\u001b[43mfamily\u001b[49m\u001b[43m,\u001b[49m\u001b[43m \u001b[49m\u001b[38;5;28;43mtype\u001b[39;49m\u001b[43m,\u001b[49m\u001b[43m \u001b[49m\u001b[43mproto\u001b[49m\u001b[43m,\u001b[49m\u001b[43m \u001b[49m\u001b[43mflags\u001b[49m\u001b[43m)\u001b[49m:\n\u001b[1;32m    977\u001b[0m     af, socktype, proto, canonname, sa \u001b[38;5;241m=\u001b[39m res\n\u001b[1;32m    978\u001b[0m     addrlist\u001b[38;5;241m.\u001b[39mappend((_intenum_converter(af, AddressFamily),\n\u001b[1;32m    979\u001b[0m                      _intenum_converter(socktype, SocketKind),\n\u001b[1;32m    980\u001b[0m                      proto, canonname, sa))\n",
      "\u001b[0;31mKeyboardInterrupt\u001b[0m: "
     ]
    }
   ],
   "source": [
    "from dspy.datasets import (\n",
    "    HotPotQA,\n",
    ")\n",
    "hpqa = HotPotQA(train_seed=1, train_size=20,\n",
    "                eval_seed=2, dev_size=5,\n",
    "                test_size=0)  # Removed timeout argument\n",
    "hpqa"
   ]
  },
  {
   "cell_type": "code",
   "execution_count": 58,
   "metadata": {},
   "outputs": [],
   "source": [
    "from dspy.evaluate import(\n",
    "    answer_exact_match,\n",
    "    answer_exact_match_str,\n",
    "    answer_passage_match\n",
    ")\n",
    "\n",
    "from dspy import(\n",
    "    Predict,\n",
    "    Prediction,\n",
    "    Example,\n",
    "    InputField,\n",
    "    OutputField,\n",
    "    Signature,\n",
    "    OpenAI, \n",
    "    settings,\n",
    "    context,\n",
    "    ChainOfThought\n",
    ")"
   ]
  },
  {
   "cell_type": "code",
   "execution_count": 59,
   "metadata": {},
   "outputs": [],
   "source": [
    "def validate_ans(example, pred, trace=None):\n",
    "    return example.answer.lower()== pred.answer.lower()"
   ]
  },
  {
   "cell_type": "code",
   "execution_count": 60,
   "metadata": {},
   "outputs": [],
   "source": [
    "# Multiple Checks \n",
    "def validate_context_and_answer(example, pred, contexts, trace=None):\n",
    "    # check the gold label and the predicted answer are the same\n",
    "    answer_match = example.answer.lower() == pred.answer.lower()\n",
    "\n",
    "    # check the predicted answer comes from one of the retrieved contexts\n",
    "    context_match = any((pred.answer.lower() in c) for c in contexts)\n",
    "\n",
    "    if trace is None: # if we're doing evaluation or optimization\n",
    "        return (answer_match + context_match) / 2.0\n",
    "    else: # if we're doing bootstrapping, i.e. self-generating good demonstrations of each step\n",
    "        return answer_match and context_match"
   ]
  },
  {
   "cell_type": "code",
   "execution_count": 61,
   "metadata": {},
   "outputs": [],
   "source": [
    "class Assess(Signature):\n",
    "    \"\"\"Assess the quality of a tweet along with the specific dimension\"\"\"\n",
    "\n",
    "    assessed_text = InputField()\n",
    "    assessment_question = InputField()\n",
    "    assessment_answer = OutputField(desc=\"Yes or No\")"
   ]
  },
  {
   "cell_type": "code",
   "execution_count": 62,
   "metadata": {},
   "outputs": [],
   "source": [
    "gpt3T = OpenAI(model = 'gpt-3.5-turbo',\n",
    "               max_tokens=512,\n",
    "               model_type='chat')\n",
    "\n",
    "settings.configure(lm=gpt3T)\n",
    "\n",
    "model_pred = Predict('question -> answer')\n",
    "asses_pred = Predict(Assess)"
   ]
  },
  {
   "cell_type": "code",
   "execution_count": null,
   "metadata": {},
   "outputs": [],
   "source": [
    "def metric(gold, pred, trace=None):\n",
    "    question, answer, gen_answer = gold.question, gold.answer, pred.answer\n",
    "\n",
    "    engaging = \"Is the assessed text self-contained, information? \"\n",
    "    correct = f\"The text should answer `{question}` with `{answer}`. Does the assessed text contain this answer?\"\n",
    "\n",
    "    \n",
    "    "
   ]
  }
 ],
 "metadata": {
  "kernelspec": {
   "display_name": "myenv",
   "language": "python",
   "name": "python3"
  },
  "language_info": {
   "codemirror_mode": {
    "name": "ipython",
    "version": 3
   },
   "file_extension": ".py",
   "mimetype": "text/x-python",
   "name": "python",
   "nbconvert_exporter": "python",
   "pygments_lexer": "ipython3",
   "version": "3.12.6"
  }
 },
 "nbformat": 4,
 "nbformat_minor": 2
}
