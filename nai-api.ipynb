{
 "cells": [
  {
   "cell_type": "code",
   "execution_count": 10,
   "metadata": {},
   "outputs": [],
   "source": [
    "import os\n",
    "import requests\n",
    "from dotenv import load_dotenv"
   ]
  },
  {
   "cell_type": "code",
   "execution_count": 18,
   "metadata": {},
   "outputs": [],
   "source": [
    "load_dotenv()\n",
    "\n",
    "url = \"https://ai.nutanix.com/api/v1/chat/completions\" \n",
    "\n",
    "nai_api_key = os.getenv(\"NAI_API_KEY\")\n",
    "\n",
    "# print(nai_api_key)"
   ]
  },
  {
   "cell_type": "code",
   "execution_count": 17,
   "metadata": {},
   "outputs": [
    {
     "name": "stderr",
     "output_type": "stream",
     "text": [
      "/Users/hritik.raj/DSPy/nai-api/lib/python3.12/site-packages/urllib3/connectionpool.py:1099: InsecureRequestWarning: Unverified HTTPS request is being made to host 'ai.nutanix.com'. Adding certificate verification is strongly advised. See: https://urllib3.readthedocs.io/en/latest/advanced-usage.html#tls-warnings\n",
      "  warnings.warn(\n"
     ]
    },
    {
     "name": "stdout",
     "output_type": "stream",
     "text": [
      "Response from the API:\n",
      "{'id': '3801aad3-cd47-497a-b691-e30e7e3f1fbc', 'object': 'chat.completion', 'created': 1729616990, 'model': 'vllm-llama-3-1', 'choices': [{'index': 0, 'message': {'role': 'assistant', 'content': '**What is a Deep Neural Network?**\\n\\nA Deep Neural Network (DNN) is a type of machine learning model that consists of multiple layers of artificial neurons, similar to how the brain processes information. Inspired by the human brain\\'s complex neural structure, DNNs have become a powerful tool in solving complex problems, such as image recognition, natural language processing, and speech recognition.\\n\\n**How does it work?**\\n\\nImagine you\\'re trying to recognize a cat in an image. A DNN would process the image in multiple stages:\\n\\n1. **Input Layer**: The image is fed into the network as a set of pixels.\\n2. **Hidden Layers**: The pixels are then passed through multiple hidden layers, each consisting of a large number of artificial neurons. These neurons apply complex calculations to the input data, allowing the network to learn features, such as edges, shapes, and textures.\\n3. **Output Layer**: The output of the hidden layers is then passed to the output layer, which produces the final prediction (e.g., \"cat,\" \"dog,\" etc.).\\n\\n**Key components of a DNN:**\\n\\n1. **Artificial neurons** (also called \"neurons\"): These are the basic building blocks of a DNN, inspired by biological neurons in the brain'}, 'finish_reason': 'length', 'content_filter_results': {'hate': {'filtered': False}, 'self_harm': {'filtered': False}, 'sexual': {'filtered': False}, 'violence': {'filtered': False}, 'jailbreak': {'filtered': False, 'detected': False}, 'profanity': {'filtered': False, 'detected': False}}}], 'usage': {'prompt_tokens': 44, 'completion_tokens': 256, 'total_tokens': 300, 'prompt_tokens_details': None, 'completion_tokens_details': None}, 'system_fingerprint': ''}\n"
     ]
    }
   ],
   "source": [
    "\n",
    "headers = {\n",
    "    \"Authorization\": f\"Bearer {nai_api_key}\", \n",
    "    \"accept\": \"application/json\",\n",
    "    \"Content-Type\": \"application/json\"\n",
    "}\n",
    "\n",
    "data = {\n",
    "    \"model\": \"vllm-llama-3-1\",\n",
    "    \"messages\": [\n",
    "        {\n",
    "            \"role\": \"user\",\n",
    "            \"content\": \"Explain Deep Neural Networks in simple terms\"\n",
    "        }\n",
    "    ],\n",
    "    \"max_tokens\": 256,\n",
    "    \"stream\": False\n",
    "}\n",
    "\n",
    "response = requests.post(url, headers=headers, json=data, verify=False)\n",
    "\n",
    "if response.status_code == 200:\n",
    "    print(\"Response from the API:\")\n",
    "    print(response.json())\n",
    "else:\n",
    "    print(f\"Failed with status code: {response.status_code}\")\n",
    "    print(\"Error message:\", response.text)"
   ]
  },
  {
   "cell_type": "code",
   "execution_count": 23,
   "metadata": {},
   "outputs": [
    {
     "name": "stdout",
     "output_type": "stream",
     "text": [
      "**What is a Deep Neural Network?**\n",
      "\n",
      "A Deep Neural Network (DNN) is a type of machine learning model that consists of multiple layers of artificial neurons, similar to how the brain processes information. Inspired by the human brain's complex neural structure, DNNs have become a powerful tool in solving complex problems, such as image recognition, natural language processing, and speech recognition.\n",
      "\n",
      "**How does it work?**\n",
      "\n",
      "Imagine you're trying to recognize a cat in an image. A DNN would process the image in multiple stages:\n",
      "\n",
      "1. **Input Layer**: The image is fed into the network as a set of pixels.\n",
      "2. **Hidden Layers**: The pixels are then passed through multiple hidden layers, each consisting of a large number of artificial neurons. These neurons apply complex calculations to the input data, allowing the network to learn features, such as edges, shapes, and textures.\n",
      "3. **Output Layer**: The output of the hidden layers is then passed to the output layer, which produces the final prediction (e.g., \"cat,\" \"dog,\" etc.).\n",
      "\n",
      "**Key components of a DNN:**\n",
      "\n",
      "1. **Artificial neurons** (also called \"neurons\"): These are the basic building blocks of a DNN, inspired by biological neurons in the brain\n"
     ]
    }
   ],
   "source": [
    "print(response.json()[\"choices\"][0][\"message\"][\"content\"])"
   ]
  },
  {
   "cell_type": "code",
   "execution_count": null,
   "metadata": {},
   "outputs": [],
   "source": []
  }
 ],
 "metadata": {
  "kernelspec": {
   "display_name": "nai-api",
   "language": "python",
   "name": "python3"
  },
  "language_info": {
   "codemirror_mode": {
    "name": "ipython",
    "version": 3
   },
   "file_extension": ".py",
   "mimetype": "text/x-python",
   "name": "python",
   "nbconvert_exporter": "python",
   "pygments_lexer": "ipython3",
   "version": "3.12.6"
  }
 },
 "nbformat": 4,
 "nbformat_minor": 2
}
